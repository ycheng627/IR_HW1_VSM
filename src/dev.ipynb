{
 "cells": [
  {
   "cell_type": "code",
   "execution_count": 12,
   "metadata": {},
   "outputs": [
    {
     "name": "stdout",
     "output_type": "stream",
     "text": [
      "The autoreload extension is already loaded. To reload it, use:\n",
      "  %reload_ext autoreload\n",
      "Reading Inverted Files: \n"
     ]
    },
    {
     "data": {
      "application/vnd.jupyter.widget-view+json": {
       "model_id": "211020b02565459db7acd5106751a41a",
       "version_major": 2,
       "version_minor": 0
      },
      "text/plain": [
       "HBox(children=(FloatProgress(value=0.0, max=1193467.0), HTML(value='')))"
      ]
     },
     "metadata": {},
     "output_type": "display_data"
    }
   ],
   "source": [
    "import parser\n",
    "import sparse_matrix\n",
    "import predict\n",
    "\n",
    "%load_ext autoreload\n",
    "%autoreload 2\n",
    "\n",
    "configs = {\n",
    "    \"k\": 1.5,\n",
    "    \"b\": 0.5,\n",
    "    \"alpha\": 1,\n",
    "    \"beta\": 0.75,\n",
    "    \"gamma\": 0.15,\n",
    "    \"target\": 100,\n",
    "    \"rochio\": False,\n",
    "    \"query_path\": \"../queries/query-test.xml\",\n",
    "    \"output_path\": \"../prediction.csv\",\n",
    "    \"model_path\": \"../model\",\n",
    "    \"corpus_path\": \"../CIRB010\",\n",
    "\n",
    "}\n",
    "\n",
    "if __name__ == '__main__':\n",
    "#     parser.parse_arg(configs)\n",
    "    fname_to_id, id_to_fname, id_to_doclen = parser.parse_file_list(configs)\n",
    "    vocab_to_id, id_to_vocab = parser.parse_vocab_list(configs)\n",
    "    doc_count = len(fname_to_id)\n",
    "    inverted_files, gram_to_id, gram_count = parser.parse_inverted_file(configs, doc_count)\n",
    "    old_inverted_files = inverted_files.copy()\n",
    "    "
   ]
  },
  {
   "cell_type": "code",
   "execution_count": 13,
   "metadata": {},
   "outputs": [
    {
     "name": "stdout",
     "output_type": "stream",
     "text": [
      "1193467\n",
      "46972\n"
     ]
    }
   ],
   "source": [
    "print(gram_count)\n",
    "print(doc_count)\n",
    "configs[\"gram_count\"] = gram_count\n",
    "configs[\"doc_count\"] = doc_count"
   ]
  },
  {
   "cell_type": "code",
   "execution_count": 14,
   "metadata": {},
   "outputs": [
    {
     "data": {
      "application/vnd.jupyter.widget-view+json": {
       "model_id": "6b3708eeb6804245b73c13bb2e2e451d",
       "version_major": 2,
       "version_minor": 0
      },
      "text/plain": [
       "HBox(children=(FloatProgress(value=0.0, max=1193467.0), HTML(value='')))"
      ]
     },
     "metadata": {},
     "output_type": "display_data"
    },
    {
     "name": "stdout",
     "output_type": "stream",
     "text": [
      "0 {'IDF': 9.841037515662922, 'docs': {33689: 1, 38365: 1}, 'max_freq': 1}\n",
      "1 {'IDF': 10.351863139428913, 'docs': {33256: 1}, 'max_freq': 1}\n",
      "2 {'IDF': 10.351863139428913, 'docs': {33256: 1}, 'max_freq': 1}\n",
      "3 {'IDF': 10.351863139428913, 'docs': {10849: 2}, 'max_freq': 2}\n",
      "4 {'IDF': 10.351863139428913, 'docs': {10849: 1}, 'max_freq': 1}\n",
      "1193463 {'IDF': 10.351863139428913, 'docs': {32692: 1}, 'max_freq': 1}\n",
      "1193464 {'IDF': 10.351863139428913, 'docs': {13117: 1}, 'max_freq': 1}\n",
      "1193465 {'IDF': 10.351863139428913, 'docs': {13117: 1}, 'max_freq': 1}\n",
      "1193466 {'IDF': 10.351863139428913, 'docs': {30308: 1}, 'max_freq': 1}\n",
      "\n"
     ]
    }
   ],
   "source": [
    "# Save checkpoint for notebook\n",
    "inverted_files = old_inverted_files.copy()\n",
    "avdl = sum(id_to_doclen.values()) / len(id_to_doclen)\n",
    "corpus = {\n",
    "    \"fname_to_id\": fname_to_id,\n",
    "    \"id_to_doclen\": id_to_doclen,\n",
    "    \"id_to_fname\": id_to_fname,\n",
    "    \"vocab_to_id\": vocab_to_id,\n",
    "    \"id_to_vocab\": id_to_vocab,\n",
    "    \"inverted_files\": inverted_files,\n",
    "    \"gram_to_id\": gram_to_id,\n",
    "    \"avdl\": avdl,\n",
    "}\n",
    "corpus[\"sparse\"] = sparse_matrix.gen_matrix(corpus, configs)\n",
    "# id_to_magnitude = sparse_matrix.gen_id_to_magnitude(corpus, configs)\n",
    "# corpus[\"id_to_magnitude\"] = id_to_magnitude"
   ]
  },
  {
   "cell_type": "code",
   "execution_count": 16,
   "metadata": {},
   "outputs": [
    {
     "name": "stdout",
     "output_type": "stream",
     "text": [
      "  (0, 17145)\t4.013536439802942\n",
      "  (0, 17232)\t8.940033559431845\n",
      "  (0, 17384)\t6.909244752577779\n",
      "  (0, 17595)\t2.544576699714985\n",
      "  (0, 18141)\t11.0610461501555\n",
      "  (0, 20345)\t1.5918434473559662\n",
      "  (0, 20709)\t8.45074843390356\n",
      "  (0, 29889)\t3.621771862663303\n",
      "  (0, 29890)\t7.014694363918147\n",
      "  (0, 34213)\t2.4069478445579717\n",
      "  (0, 34235)\t3.5793639237055936\n",
      "  (0, 43871)\t0.6500078556999438\n",
      "  (0, 44782)\t3.367668314300231\n",
      "  (0, 44998)\t0.8427240971451537\n",
      "  (0, 45041)\t3.8956996479929935\n",
      "  (0, 45565)\t0.7541831544489747\n",
      "  (0, 45615)\t2.0492278635141714\n",
      "  (0, 46407)\t0.7794325605020581\n",
      "  (0, 46483)\t4.383871275722084\n",
      "  (0, 46583)\t5.313963965370928\n",
      "  (0, 46966)\t4.983538935012084\n",
      "  (0, 47006)\t0.7493722649053098\n",
      "  (0, 47444)\t3.0810031286043906\n",
      "  (0, 50894)\t0.7588632928750838\n",
      "  (0, 51120)\t1.8143711833793346\n",
      "  :\t:\n",
      "  (46971, 1142894)\t0.8881862939245703\n",
      "  (46971, 1142991)\t2.5585044153166727\n",
      "  (46971, 1143028)\t0.6031712584389829\n",
      "  (46971, 1143033)\t2.647998951833788\n",
      "  (46971, 1143211)\t2.9460978080245623\n",
      "  (46971, 1143563)\t1.411457740117932\n",
      "  (46971, 1143737)\t3.5015789820663348\n",
      "  (46971, 1143845)\t3.7357861675699016\n",
      "  (46971, 1143915)\t1.6520676172270605\n",
      "  (46971, 1144344)\t3.3643947563144105\n",
      "  (46971, 1144734)\t3.7460929659252904\n",
      "  (46971, 1144776)\t3.577933183373408\n",
      "  (46971, 1144861)\t2.358589463622912\n",
      "  (46971, 1144909)\t5.479548956870483\n",
      "  (46971, 1145021)\t5.59219754719303\n",
      "  (46971, 1145306)\t3.2349025624528953\n",
      "  (46971, 1145374)\t11.521516278507589\n",
      "  (46971, 1145395)\t2.0869485475592002\n",
      "  (46971, 1145767)\t2.028335634625269\n",
      "  (46971, 1148292)\t2.743038468642601\n",
      "  (46971, 1148347)\t3.3817026124914173\n",
      "  (46971, 1148845)\t4.7216214582083635\n",
      "  (46971, 1149046)\t4.514461148273101\n",
      "  (46971, 1149090)\t11.168549807289969\n",
      "  (46971, 1150076)\t1.7197842094230291\n"
     ]
    },
    {
     "name": "stderr",
     "output_type": "stream",
     "text": [
      "IOPub data rate exceeded.\n",
      "The notebook server will temporarily stop sending output\n",
      "to the client in order to avoid crashing it.\n",
      "To change this limit, set the config variable\n",
      "`--NotebookApp.iopub_data_rate_limit`.\n",
      "\n",
      "Current values:\n",
      "NotebookApp.iopub_data_rate_limit=1000000.0 (bytes/sec)\n",
      "NotebookApp.rate_limit_window=3.0 (secs)\n",
      "\n"
     ]
    }
   ],
   "source": []
  },
  {
   "cell_type": "code",
   "execution_count": 87,
   "metadata": {},
   "outputs": [
    {
     "name": "stdout",
     "output_type": "stream",
     "text": [
      "The autoreload extension is already loaded. To reload it, use:\n",
      "  %reload_ext autoreload\n",
      "Processing Query\n"
     ]
    },
    {
     "data": {
      "application/vnd.jupyter.widget-view+json": {
       "model_id": "a9a6eb5e0cb249bc81ba1b44e37c5480",
       "version_major": 2,
       "version_minor": 0
      },
      "text/plain": [
       "HBox(children=(FloatProgress(value=0.0, max=10.0), HTML(value='')))"
      ]
     },
     "metadata": {},
     "output_type": "display_data"
    },
    {
     "name": "stdout",
     "output_type": "stream",
     "text": [
      "\n"
     ]
    },
    {
     "data": {
      "application/vnd.jupyter.widget-view+json": {
       "model_id": "467cdbcc94eb41e396a3299d2df1ae8e",
       "version_major": 2,
       "version_minor": 0
      },
      "text/plain": [
       "HBox(children=(FloatProgress(value=0.0, max=1.0), HTML(value='')))"
      ]
     },
     "metadata": {},
     "output_type": "display_data"
    },
    {
     "data": {
      "application/vnd.jupyter.widget-view+json": {
       "model_id": "b9586547d49b4d509e75e33b39e60bd5",
       "version_major": 2,
       "version_minor": 0
      },
      "text/plain": [
       "HBox(children=(FloatProgress(value=0.0, max=10.0), HTML(value='')))"
      ]
     },
     "metadata": {},
     "output_type": "display_data"
    },
    {
     "name": "stdout",
     "output_type": "stream",
     "text": [
      "\n",
      "\n"
     ]
    }
   ],
   "source": [
    "import parser\n",
    "import sparse_matrix\n",
    "import predict\n",
    "import rocchio\n",
    "from tqdm.auto import tqdm\n",
    "\n",
    "%load_ext autoreload\n",
    "%autoreload 2\n",
    "\n",
    "configs[\"title_weight\"] = 1\n",
    "configs[\"question_weight\"] = 1\n",
    "configs[\"concepts_weight\"] = 1\n",
    "configs[\"narrative_weight\"] = 1\n",
    "configs[\"query_path\"] = \"../queries/query-train.xml\"\n",
    "configs[\"cdn\"] = 1\n",
    "configs[\"ctc\"] = 1\n",
    "configs[\"cte\"] = 1\n",
    "configs[\"cts\"] = 1\n",
    "configs[\"unigram_weight\"] = 1\n",
    "configs[\"bigram_weight\"] = 1\n",
    "configs[\"rocchio_iters\"] = 1\n",
    "configs[\"use_cosine\"] = False\n",
    "\n",
    "print(\"Processing Query\")\n",
    "queries = parser.parse_queries(corpus, configs, configs[\"query_path\"])\n",
    "# print(queries[0])\n",
    "sparse_queries = []\n",
    "for query in queries:\n",
    "    sparse_queries.append( sparse_matrix.gen_query_vector(query, corpus, configs) )\n",
    "# query_to_magnitude = sparse_matrix.gen_query_to_magnitude(queries)\n",
    "query_responses = []\n",
    "for sparse_query in tqdm(sparse_queries):\n",
    "    query_responses.append( predict.predict_query(sparse_query, corpus, configs) )\n",
    "#     print(response)\n",
    "for _ in tqdm(range(configs[\"rocchio_iters\"])):\n",
    "    for i in tqdm(range(len(query_responses))):\n",
    "        sparse_queries[i] = rocchio.rocchio_feedback(query_responses[i], sparse_queries[i],  corpus, configs)\n",
    "        response = predict.predict_query(sparse_queries[i], corpus, configs)\n",
    "        query_responses[i] = response"
   ]
  },
  {
   "cell_type": "code",
   "execution_count": 88,
   "metadata": {},
   "outputs": [
    {
     "name": "stdout",
     "output_type": "stream",
     "text": [
      "['cts_for_0002013', 'cts_for_0000925', 'cte_foc_0002798', 'cts_for_0001093', 'cdn_soc_0004946', 'cts_soc_0003259', 'cts_for_0002010', 'cts_soc_0003030', 'cte_foc_0000260', 'cdn_soc_0000300', 'cts_for_0000202', 'cts_soc_0002336', 'cdn_loc_0000300', 'cts_soc_0004817', 'cts_soc_0005595', 'cdn_loc_0001911', 'cts_soc_0003580', 'cte_foc_0001543', 'cte_foc_0002784', 'cts_for_0000288', 'cdn_soc_0004947', 'cdn_soc_0002307', 'cdn_soc_0003955', 'cdn_soc_0002385', 'cts_for_0001203', 'cts_for_0000180', 'cte_foc_0003486', 'cts_esy_0000215', 'cdn_ent_0000068', 'cts_ent_0001662', 'cdn_soc_0002219', 'cts_soc_0000801', 'cts_ent_0001002', 'cts_for_0001915', 'cts_for_0000082', 'cts_ent_0003437', 'cts_soc_0006141', 'cts_esy_0000128', 'cte_foc_0001485', 'cts_ent_0000064', 'ctc_dep_0001540', 'cts_foc_0003889', 'cts_soc_0005821', 'cts_foc_0003272', 'cdn_ent_0000749', 'cdn_soc_0002947', 'cdn_soc_0001745', 'cts_ent_0000339', 'cdn_ent_0000029', 'cts_for_0000518', 'cdn_soc_0001627', 'cdn_soc_0004432', 'cdn_foc_0006516', 'cdn_foc_0006937', 'cdn_soc_0004448', 'cts_ent_0002596', 'cts_soc_0005893', 'cdn_soc_0004433', 'cdn_foc_0006900', 'cdn_soc_0004951', 'cdn_foc_0007908', 'cts_foc_0002126', 'cdn_foc_0007774', 'cdn_soc_0003603', 'cts_soc_0004433', 'ctc_esy_0000038', 'cdn_edu_0000693', 'cts_pol_0003262', 'cdn_foc_0007307', 'cts_for_0000581', 'cts_soc_0004416', 'cdn_soc_0005143', 'cdn_soc_0004715', 'cdn_soc_0004721', 'cdn_foc_0008253', 'cts_soc_0002209', 'cts_foc_0003676', 'cts_for_0002018', 'cts_foc_0002483', 'ctc_esy_0000210', 'cte_foc_0003313', 'cdn_edu_0000952', 'cts_soc_0003522', 'cdn_foc_0000618', 'cdn_foc_0006304', 'cts_soc_0000226', 'cdn_for_0000326', 'cts_pol_0002142', 'cdn_foc_0006281', 'cts_esy_0000034', 'cdn_foc_0007864', 'cts_pol_0002457', 'cdn_loc_0001774', 'cts_soc_0006015', 'cts_foc_0001838', 'cdn_foc_0000166', 'ctc_esy_0000163', 'cts_for_0000684', 'cts_soc_0005861', 'cdn_soc_0004137']\n",
      "[0.8060558878963513, 0.8130864288043667, 0.7833999342243549, 0.8419793169793169, 0.8625502443684262, 0.3482450540683657, 0.7088564408836697, 0.7366833852506605, 0.6314093314093314, 0.6511833533744621]\n",
      "0.7183449377259306\n"
     ]
    }
   ],
   "source": [
    "predict.process_predictions(query_responses, configs, corpus)\n",
    "\n",
    "print(query_responses[0])\n",
    "predict.write_predictions(query_responses, queries)\n",
    "predict.calc_MAP(query_responses, configs)"
   ]
  },
  {
   "cell_type": "markdown",
   "metadata": {},
   "source": [
    "### TODO!!!\n",
    "* Add rochio\n",
    "* Add logarithmic(?)\n",
    "Add weighting to different components (title, 關鍵字)\n",
    "Add weighting to different document source (cdn, cts, etc)"
   ]
  }
 ],
 "metadata": {
  "kernelspec": {
   "display_name": "Python 3",
   "language": "python",
   "name": "python3"
  },
  "language_info": {
   "codemirror_mode": {
    "name": "ipython",
    "version": 3
   },
   "file_extension": ".py",
   "mimetype": "text/x-python",
   "name": "python",
   "nbconvert_exporter": "python",
   "pygments_lexer": "ipython3",
   "version": "3.7.6"
  }
 },
 "nbformat": 4,
 "nbformat_minor": 4
}
