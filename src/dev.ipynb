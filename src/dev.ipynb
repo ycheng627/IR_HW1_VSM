{
 "cells": [
  {
   "cell_type": "code",
   "execution_count": 1,
   "metadata": {},
   "outputs": [
    {
     "name": "stdout",
     "output_type": "stream",
     "text": [
      "Reading Inverted Files: \n"
     ]
    },
    {
     "data": {
      "application/vnd.jupyter.widget-view+json": {
       "model_id": "b64c5d5c373b490f88cd9da450440180",
       "version_major": 2,
       "version_minor": 0
      },
      "text/plain": [
       "HBox(children=(FloatProgress(value=0.0, max=1193467.0), HTML(value='')))"
      ]
     },
     "metadata": {},
     "output_type": "display_data"
    }
   ],
   "source": [
    "import parser\n",
    "import sparse_matrix\n",
    "import predict\n",
    "import rocchio\n",
    "from tqdm.auto import tqdm\n",
    "\n",
    "configs = {\n",
    "    \"k\": 1.5,\n",
    "    \"b\": 0.5,\n",
    "    \"ka\": 100,\n",
    "    \"alpha\": 1,\n",
    "    \"beta\": 0.75,\n",
    "    \"gamma\": 0.15,\n",
    "    \"target\": 100,\n",
    "    \"use_rocchio\": True,\n",
    "    \"output_path\": \"../prediction.csv\",\n",
    "    \"model_path\": \"../model\",\n",
    "    \"corpus_path\": \"../CIRB010\",\n",
    "    \"title_weight\": 1,\n",
    "    \"question_weight\": 1,\n",
    "    \"concepts_weight\": 1,\n",
    "    \"narrative_weight\": 1,\n",
    "    \"query_path\": \"../queries/query-train.xml\",\n",
    "    \"cdn\": 1,\n",
    "    \"ctc\": 1,\n",
    "    \"cte\": 1,\n",
    "    \"cts\": 1,\n",
    "    \"unigram_weight\": 1,\n",
    "    \"bigram_weight\": 1,\n",
    "    \"rocchio_iters\": 1,\n",
    "    \"use_cosine\": False\n",
    "}\n",
    "\n",
    "if __name__ == '__main__':\n",
    "    # parser.parse_arg(configs)\n",
    "    fname_to_id, id_to_fname = parser.parse_file_list(configs)\n",
    "    vocab_to_id, id_to_vocab = parser.parse_vocab_list(configs)\n",
    "    doc_count = len(fname_to_id)\n",
    "    inverted_files, gram_to_id, gram_count, id_to_doclen = parser.parse_inverted_file(configs, doc_count)\n",
    "    configs[\"gram_count\"] = gram_count\n",
    "    configs[\"doc_count\"] = doc_count\n",
    "    # Save checkpoint for notebook\n",
    "    avdl = sum(id_to_doclen.values()) / len(id_to_doclen)\n",
    "    corpus = {\n",
    "        \"fname_to_id\": fname_to_id,\n",
    "        \"id_to_doclen\": id_to_doclen,\n",
    "        \"id_to_fname\": id_to_fname,\n",
    "        \"vocab_to_id\": vocab_to_id,\n",
    "        \"id_to_vocab\": id_to_vocab,\n",
    "        \"inverted_files\": inverted_files,\n",
    "        \"gram_to_id\": gram_to_id,\n",
    "        \"avdl\": avdl,\n",
    "    }"
   ]
  },
  {
   "cell_type": "code",
   "execution_count": 10,
   "metadata": {},
   "outputs": [],
   "source": [
    "def run_func():\n",
    "    print(\"generating sparse\")\n",
    "    corpus[\"sparse\"] = sparse_matrix.gen_matrix(corpus, configs)\n",
    "    configs[\"rocchio_iters\"] = 1\n",
    "    configs[\"use_rocchio\"] = False\n",
    "    configs[\"gamma\"] = 0\n",
    "    configs[\"query_path\"] = \"../queries/query-train.xml\"\n",
    "    print(\"Processing Query\")\n",
    "    queries = parser.parse_queries(corpus, configs, configs[\"query_path\"])\n",
    "    sparse_queries = []\n",
    "    for query in queries:\n",
    "        sparse_queries.append( sparse_matrix.gen_query_vector(query, corpus, configs) )\n",
    "    query_responses = []\n",
    "    for sparse_query in tqdm(sparse_queries):\n",
    "        query_responses.append( predict.predict_query(sparse_query, corpus, configs) )\n",
    "    print(\"Rocchio Feedback~~~\")\n",
    "    for query in query_responses:\n",
    "        print(query[:10])\n",
    "    # print(\"query_responses: \", query_responses)\n",
    "#     query_responses = load_csv_response()\n",
    "    if configs[\"use_rocchio\"]:\n",
    "        print(\"in rocchio\")\n",
    "        for _ in tqdm(range(configs[\"rocchio_iters\"])):\n",
    "            print(\"iterations\")\n",
    "            for i in tqdm(range(len(query_responses))):\n",
    "                feedback_vec = rocchio.rocchio_feedback(query_responses[i], sparse_queries[i],  corpus, configs)\n",
    "                print((sparse_queries[i] + feedback_vec).sum())\n",
    "                response = predict.predict_query(sparse_queries[i] + feedback_vec, corpus, configs) \n",
    "                query_responses[i] = response\n",
    "        print(\"done rocchio\")\n",
    "    print(\"something done~~~\")\n",
    "    predict.process_predictions(query_responses, configs, corpus)\n",
    "    predict.write_predictions(query_responses, queries, configs)\n",
    "    return predict.calc_MAP(query_responses, configs)"
   ]
  },
  {
   "cell_type": "code",
   "execution_count": 27,
   "metadata": {},
   "outputs": [
    {
     "name": "stdout",
     "output_type": "stream",
     "text": [
      "The autoreload extension is already loaded. To reload it, use:\n",
      "  %reload_ext autoreload\n",
      "generating sparse\n",
      "Processing Query\n"
     ]
    },
    {
     "data": {
      "application/vnd.jupyter.widget-view+json": {
       "model_id": "df34b44681394827a40bd7f8ac16c175",
       "version_major": 2,
       "version_minor": 0
      },
      "text/plain": [
       "HBox(children=(FloatProgress(value=0.0, max=10.0), HTML(value='')))"
      ]
     },
     "metadata": {},
     "output_type": "display_data"
    },
    {
     "name": "stdout",
     "output_type": "stream",
     "text": [
      "\n",
      "Rocchio Feedback~~~\n",
      "[21266, 21207, 46159, 21704, 20787, 11124, 45433, 25109, 25662, 11382]\n",
      "[45983, 3304, 3905, 3426, 3949, 25601, 26923, 28067, 25063, 3491]\n",
      "[26613, 11171, 6184, 10588, 25102, 21284, 11026, 25072, 26558, 26068]\n",
      "[20429, 4954, 34356, 35108, 20279, 19449, 19708, 35191, 34621, 33197]\n",
      "[25296, 10371, 175, 369, 979, 21453, 25729, 11822, 26882, 689]\n",
      "[38863, 14425, 7156, 43629, 2399, 22962, 35635, 45976, 39218, 2802]\n",
      "[26529, 36820, 28003, 43432, 26094, 21824, 21669, 11730, 26163, 3827]\n",
      "[43497, 6186, 46227, 44177, 14738, 23308, 1451, 27492, 22130, 10579]\n",
      "[8420, 9371, 23939, 4358, 7509, 5234, 6793, 18959, 38465, 46722]\n",
      "[46319, 24177, 6679, 3524, 3560, 25619, 12424, 26024, 10700, 22053]\n",
      "something done~~~\n",
      "[0.8216275439091838, 0.8328943186434508, 0.8136327065025817, 0.8537638287638287, 0.867921416406265, 0.478572917710708, 0.7305188938407405, 0.7972364454973967, 0.6505291005291005, 0.6863818570081816]\n",
      "0.7533079028811437\n",
      "generating sparse\n",
      "Processing Query\n"
     ]
    },
    {
     "data": {
      "application/vnd.jupyter.widget-view+json": {
       "model_id": "cb0422633cdf48a0a5f067e81cbbf68e",
       "version_major": 2,
       "version_minor": 0
      },
      "text/plain": [
       "HBox(children=(FloatProgress(value=0.0, max=10.0), HTML(value='')))"
      ]
     },
     "metadata": {},
     "output_type": "display_data"
    },
    {
     "name": "stdout",
     "output_type": "stream",
     "text": [
      "\n",
      "Rocchio Feedback~~~\n",
      "[21266, 21207, 46159, 21704, 20787, 11124, 45433, 25109, 11382, 25662]\n",
      "[45983, 3304, 3905, 3426, 3949, 28067, 25601, 26923, 25063, 3491]\n",
      "[26613, 11171, 6184, 10588, 11026, 25102, 21284, 25072, 26558, 26068]\n",
      "[4954, 20429, 34356, 35108, 20279, 19449, 19708, 35191, 34621, 29194]\n",
      "[25296, 10371, 175, 369, 979, 21453, 25729, 11822, 26882, 10178]\n",
      "[38863, 7156, 14425, 43629, 2399, 22962, 35635, 45976, 2239, 2802]\n",
      "[26529, 36820, 28003, 43432, 21824, 26094, 21669, 11730, 26163, 3827]\n",
      "[43497, 6186, 46227, 44177, 14738, 23308, 1451, 27492, 22130, 10579]\n",
      "[8420, 9371, 23939, 4358, 7509, 5234, 18959, 6793, 38465, 46722]\n",
      "[46319, 24177, 3524, 3560, 6679, 25619, 12424, 26024, 10700, 22053]\n",
      "something done~~~\n",
      "[0.8135784653387149, 0.8331659424444864, 0.8136552132095803, 0.8649871733205066, 0.8693644178492663, 0.5233590871845456, 0.7319541644085126, 0.8001016358625871, 0.6831770081770082, 0.6914838290738325]\n",
      "0.762482693686904\n",
      "generating sparse\n",
      "Processing Query\n"
     ]
    },
    {
     "data": {
      "application/vnd.jupyter.widget-view+json": {
       "model_id": "4a53284955684388bc6e0489888234c3",
       "version_major": 2,
       "version_minor": 0
      },
      "text/plain": [
       "HBox(children=(FloatProgress(value=0.0, max=10.0), HTML(value='')))"
      ]
     },
     "metadata": {},
     "output_type": "display_data"
    },
    {
     "name": "stdout",
     "output_type": "stream",
     "text": [
      "\n",
      "Rocchio Feedback~~~\n",
      "[21266, 21207, 46159, 21704, 20787, 45433, 11124, 11382, 25109, 25766]\n",
      "[45983, 3304, 3905, 3426, 3949, 28067, 26923, 25601, 25063, 3491]\n",
      "[26613, 11171, 6184, 10588, 11026, 26558, 25072, 25951, 25102, 26068]\n",
      "[4954, 20429, 34356, 35108, 20279, 19449, 19708, 35191, 34621, 29194]\n",
      "[25296, 10371, 175, 369, 979, 21453, 25729, 11822, 26882, 10178]\n",
      "[38863, 7156, 14425, 43629, 2399, 22962, 35635, 45976, 2239, 2802]\n",
      "[26529, 36820, 28003, 43432, 21824, 26094, 21669, 11730, 26163, 3827]\n",
      "[43497, 6186, 46227, 44177, 14738, 23308, 1451, 27492, 22130, 10579]\n",
      "[8420, 9371, 23939, 4358, 7509, 5234, 18959, 6793, 46722, 38465]\n",
      "[46319, 24177, 3524, 3560, 6679, 25619, 12424, 26024, 22053, 10700]\n",
      "something done~~~\n",
      "[0.8052791121864206, 0.8335125743700657, 0.8148064312725631, 0.8649871733205066, 0.8693644178492663, 0.5678571420460703, 0.7320042983328859, 0.8001016358625871, 0.7008537758537758, 0.6901593024967807]\n",
      "0.7678925863590922\n",
      "generating sparse\n",
      "Processing Query\n"
     ]
    },
    {
     "data": {
      "application/vnd.jupyter.widget-view+json": {
       "model_id": "5c29b74fadeb469b800af6e6efd4f29d",
       "version_major": 2,
       "version_minor": 0
      },
      "text/plain": [
       "HBox(children=(FloatProgress(value=0.0, max=10.0), HTML(value='')))"
      ]
     },
     "metadata": {},
     "output_type": "display_data"
    },
    {
     "name": "stdout",
     "output_type": "stream",
     "text": [
      "\n",
      "Rocchio Feedback~~~\n",
      "[21266, 21207, 46159, 20787, 21704, 45433, 11124, 11382, 25766, 25109]\n",
      "[45983, 3304, 3905, 3426, 3949, 28067, 26923, 25601, 25063, 3491]\n",
      "[26613, 11171, 10588, 6184, 11026, 26558, 25072, 25951, 26068, 25102]\n",
      "[4954, 20429, 34356, 35108, 19708, 19449, 20279, 35191, 34621, 29194]\n",
      "[25296, 10371, 175, 369, 979, 21453, 25729, 11822, 26882, 10178]\n",
      "[38863, 7156, 14425, 43629, 22962, 2399, 35635, 45976, 2239, 2802]\n",
      "[26529, 36820, 28003, 43432, 21824, 26094, 21669, 11730, 26163, 33309]\n",
      "[43497, 6186, 46227, 44177, 14738, 27492, 23308, 1451, 10579, 22130]\n",
      "[8420, 9371, 23939, 4358, 7509, 5234, 18959, 6793, 46722, 38465]\n",
      "[46319, 24177, 3524, 3560, 6679, 25619, 12424, 26024, 22053, 10700]\n",
      "something done~~~\n",
      "[0.7994038055758198, 0.833468847053611, 0.8094503494458931, 0.8649871733205066, 0.8693644178492663, 0.5969391245108764, 0.7338530689093749, 0.8000769691712537, 0.7071669071669072, 0.6875810527594401]\n",
      "0.7702291715762949\n",
      "generating sparse\n",
      "Processing Query\n"
     ]
    },
    {
     "data": {
      "application/vnd.jupyter.widget-view+json": {
       "model_id": "3d8a9eccd934477cb8c3dc5ce15a29ca",
       "version_major": 2,
       "version_minor": 0
      },
      "text/plain": [
       "HBox(children=(FloatProgress(value=0.0, max=10.0), HTML(value='')))"
      ]
     },
     "metadata": {},
     "output_type": "display_data"
    },
    {
     "name": "stdout",
     "output_type": "stream",
     "text": [
      "\n",
      "Rocchio Feedback~~~\n",
      "[21266, 21207, 46159, 20787, 21704, 45433, 11124, 11382, 25766, 25109]\n",
      "[45983, 3304, 3905, 3949, 3426, 28067, 26923, 25601, 25063, 3491]\n",
      "[26613, 11171, 10588, 6184, 11026, 26558, 25072, 25951, 26068, 9473]\n",
      "[4954, 20429, 34356, 35108, 19708, 19449, 20279, 35191, 34621, 29194]\n",
      "[25296, 10371, 175, 369, 979, 21453, 25729, 11822, 10178, 26882]\n",
      "[38863, 7156, 14425, 43629, 22962, 2399, 35635, 45976, 2239, 2802]\n",
      "[26529, 36820, 28003, 43432, 21824, 26094, 21669, 11730, 26163, 33309]\n",
      "[43497, 6186, 46227, 44177, 14738, 27492, 10579, 1451, 23308, 22130]\n",
      "[8420, 9371, 23939, 4358, 7509, 18959, 5234, 6793, 46722, 38465]\n",
      "[24177, 46319, 3524, 3560, 6679, 25619, 26024, 12424, 22053, 10700]\n",
      "something done~~~\n",
      "[0.7990572022880401, 0.8333485969333609, 0.8114464049847294, 0.8649871733205066, 0.8700859185707671, 0.6154180159068199, 0.7327024679657775, 0.8009004210816622, 0.710954785954786, 0.685467182224517]\n",
      "0.7724368169230966\n",
      "generating sparse\n",
      "Processing Query\n"
     ]
    },
    {
     "data": {
      "application/vnd.jupyter.widget-view+json": {
       "model_id": "22c85a1ef26b4630bfd45c82899d3db0",
       "version_major": 2,
       "version_minor": 0
      },
      "text/plain": [
       "HBox(children=(FloatProgress(value=0.0, max=10.0), HTML(value='')))"
      ]
     },
     "metadata": {},
     "output_type": "display_data"
    },
    {
     "name": "stdout",
     "output_type": "stream",
     "text": [
      "\n",
      "Rocchio Feedback~~~\n",
      "[21266, 46159, 21207, 20787, 21704, 45433, 11382, 11124, 25766, 25109]\n",
      "[45983, 3304, 3905, 3949, 3426, 28067, 26923, 25601, 25063, 3491]\n",
      "[26613, 11171, 10588, 6184, 11026, 26558, 25072, 25951, 26068, 9473]\n",
      "[4954, 20429, 34356, 35108, 19708, 19449, 20279, 35191, 34621, 29194]\n",
      "[25296, 10371, 175, 369, 979, 21453, 25729, 11822, 10178, 26882]\n",
      "[38863, 7156, 14425, 43629, 22962, 2399, 35635, 45976, 2239, 2802]\n",
      "[26529, 36820, 28003, 43432, 21824, 26094, 21669, 11730, 26163, 33309]\n",
      "[43497, 6186, 46227, 44177, 14738, 27492, 10579, 1451, 23308, 22130]\n",
      "[8420, 9371, 23939, 4358, 7509, 18959, 5234, 6793, 46722, 38465]\n",
      "[24177, 46319, 3524, 3560, 25619, 6679, 26024, 12424, 22053, 10700]\n",
      "something done~~~\n",
      "[0.7970200237802734, 0.8343105978953619, 0.8120405820494947, 0.8649871733205066, 0.8700859185707671, 0.6230502806743912, 0.7329995564981602, 0.7998611825424236, 0.7134800384800385, 0.6850931336151742]\n",
      "0.7732928487426591\n",
      "generating sparse\n",
      "Processing Query\n"
     ]
    },
    {
     "data": {
      "application/vnd.jupyter.widget-view+json": {
       "model_id": "12a148dc76554800b7a94e9db16cc052",
       "version_major": 2,
       "version_minor": 0
      },
      "text/plain": [
       "HBox(children=(FloatProgress(value=0.0, max=10.0), HTML(value='')))"
      ]
     },
     "metadata": {},
     "output_type": "display_data"
    },
    {
     "name": "stdout",
     "output_type": "stream",
     "text": [
      "\n",
      "Rocchio Feedback~~~\n",
      "[21266, 46159, 21207, 20787, 21704, 45433, 11382, 11124, 25766, 25109]\n",
      "[45983, 3304, 3905, 3949, 3426, 28067, 26923, 25601, 25063, 3491]\n",
      "[26613, 11171, 10588, 6184, 11026, 26558, 25072, 25951, 26068, 9473]\n",
      "[4954, 20429, 34356, 35108, 19708, 19449, 20279, 29194, 34621, 35191]\n",
      "[25296, 10371, 175, 369, 979, 21453, 25729, 11822, 10178, 26882]\n",
      "[38863, 7156, 14425, 43629, 22962, 2399, 35635, 45976, 2239, 2802]\n",
      "[26529, 36820, 28003, 43432, 21824, 26094, 21669, 11730, 26163, 33309]\n",
      "[43497, 6186, 46227, 44177, 14738, 27492, 10579, 1451, 22130, 23308]\n",
      "[8420, 9371, 23939, 4358, 7509, 18959, 5234, 6793, 46722, 38465]\n",
      "[24177, 46319, 3524, 3560, 25619, 6679, 26024, 12424, 22053, 10700]\n",
      "something done~~~\n",
      "[0.7976142008450386, 0.8343105978953619, 0.8120405820494947, 0.8626022126022126, 0.8700859185707671, 0.6282903948303649, 0.7333603068589105, 0.7994726821539232, 0.7134800384800385, 0.6831424916645322]\n",
      "0.7734399425950644\n",
      "generating sparse\n",
      "Processing Query\n"
     ]
    },
    {
     "data": {
      "application/vnd.jupyter.widget-view+json": {
       "model_id": "228ce3a21c17468db4d8fbdb24c08d2b",
       "version_major": 2,
       "version_minor": 0
      },
      "text/plain": [
       "HBox(children=(FloatProgress(value=0.0, max=10.0), HTML(value='')))"
      ]
     },
     "metadata": {},
     "output_type": "display_data"
    },
    {
     "name": "stdout",
     "output_type": "stream",
     "text": [
      "\n",
      "Rocchio Feedback~~~\n",
      "[21266, 46159, 21207, 20787, 21704, 45433, 11382, 11124, 25766, 25109]\n",
      "[45983, 3304, 3905, 3949, 3426, 28067, 26923, 25601, 25063, 3491]\n",
      "[26613, 11171, 10588, 6184, 11026, 26558, 25072, 25951, 26068, 9473]\n",
      "[4954, 20429, 34356, 35108, 19708, 19449, 20279, 29194, 34621, 35191]\n",
      "[25296, 10371, 175, 369, 979, 21453, 25729, 11822, 10178, 26882]\n",
      "[38863, 7156, 14425, 43629, 22962, 2399, 35635, 45976, 2239, 2802]\n",
      "[26529, 36820, 28003, 43432, 21824, 26094, 21669, 11730, 26163, 33309]\n",
      "[43497, 6186, 46227, 44177, 14738, 27492, 10579, 22130, 1451, 23308]\n",
      "[8420, 9371, 23939, 4358, 7509, 18959, 5234, 6793, 46722, 38465]\n",
      "[24177, 46319, 3524, 3560, 25619, 6679, 26024, 12424, 22053, 10700]\n",
      "something done~~~\n",
      "[0.7969828877137255, 0.8343105978953619, 0.8120405820494947, 0.8626022126022126, 0.8700859185707671, 0.6291215782373059, 0.7336759634245671, 0.7982100558912969, 0.7122174122174122, 0.6823809075696148]\n",
      "0.7731628116171758\n",
      "generating sparse\n",
      "Processing Query\n"
     ]
    },
    {
     "data": {
      "application/vnd.jupyter.widget-view+json": {
       "model_id": "861ef0961b994addb43e84d44d8e53f4",
       "version_major": 2,
       "version_minor": 0
      },
      "text/plain": [
       "HBox(children=(FloatProgress(value=0.0, max=10.0), HTML(value='')))"
      ]
     },
     "metadata": {},
     "output_type": "display_data"
    },
    {
     "name": "stdout",
     "output_type": "stream",
     "text": [
      "\n",
      "Rocchio Feedback~~~\n",
      "[21266, 46159, 21207, 20787, 21704, 45433, 11382, 11124, 25766, 22129]\n",
      "[45983, 3304, 3905, 3949, 3426, 28067, 26923, 25601, 25063, 3491]\n",
      "[26613, 11171, 10588, 6184, 11026, 26558, 25072, 25951, 26068, 9473]\n",
      "[4954, 20429, 34356, 35108, 19708, 19449, 20279, 29194, 34621, 35191]\n",
      "[25296, 10371, 175, 369, 979, 21453, 25729, 11822, 10178, 26882]\n",
      "[38863, 7156, 14425, 43629, 22962, 2399, 35635, 45976, 2239, 2802]\n",
      "[26529, 36820, 28003, 43432, 21824, 26094, 21669, 11730, 26163, 33309]\n",
      "[43497, 6186, 46227, 44177, 14738, 27492, 10579, 22130, 1451, 23308]\n",
      "[8420, 9371, 23939, 4358, 7509, 18959, 5234, 6793, 46722, 38465]\n",
      "[24177, 46319, 3524, 3560, 25619, 6679, 26024, 12424, 22053, 10700]\n",
      "something done~~~\n",
      "[0.7969828877137255, 0.8343105978953619, 0.8120405820494947, 0.8626022126022126, 0.8700859185707671, 0.6298212153005792, 0.7333788748921845, 0.7982100558912969, 0.7134800384800385, 0.6818999070886144]\n",
      "0.7732812290484276\n"
     ]
    }
   ],
   "source": [
    "import numpy as np\n",
    "%load_ext autoreload\n",
    "%autoreload 2\n",
    "\n",
    "ka_maps = []\n",
    "for b in np.arange(1, 10, 1):\n",
    "    configs[\"k\"] = 1.5\n",
    "    configs[\"b\"] = 0.75\n",
    "    configs[\"ka\"] = 2 ** b.item()\n",
    "    ka_maps.append(run_func())"
   ]
  },
  {
   "cell_type": "code",
   "execution_count": 32,
   "metadata": {},
   "outputs": [
    {
     "name": "stdout",
     "output_type": "stream",
     "text": [
      "[0.7533079028811437, 0.762482693686904, 0.7678925863590922, 0.7702291715762949, 0.7724368169230966, 0.7732928487426591, 0.7734399425950644, 0.7731628116171758, 0.7732812290484276]\n"
     ]
    },
    {
     "data": {
      "image/png": "[encoded data removed]",
      "text/plain": [
       "<Figure size 432x288 with 1 Axes>"
      ]
     },
     "metadata": {
      "needs_background": "light"
     },
     "output_type": "display_data"
    }
   ],
   "source": [
    "import matplotlib.pyplot as plt\n",
    "\n",
    "plt.plot(2**np.arange(1, 10, 1), ka_maps)\n",
    "# plt.ylim((0.77, 0.773))\n",
    "plt.xlabel(\"Differing Values of ka\")\n",
    "plt.ylabel(\"MAP for train\")\n",
    "plt.title(\"Effect on MAP for differing values of ka\")\n",
    "print(ka_maps)\n",
    "# k_maps = maps\n"
   ]
  }
 ],
 "metadata": {
  "kernelspec": {
   "display_name": "Python 3",
   "language": "python",
   "name": "python3"
  },
  "language_info": {
   "codemirror_mode": {
    "name": "ipython",
    "version": 3
   },
   "file_extension": ".py",
   "mimetype": "text/x-python",
   "name": "python",
   "nbconvert_exporter": "python",
   "pygments_lexer": "ipython3",
   "version": "3.7.6"
  }
 },
 "nbformat": 4,
 "nbformat_minor": 4
}
