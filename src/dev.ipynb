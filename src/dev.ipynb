{
 "cells": [
  {
   "cell_type": "code",
   "execution_count": 43,
   "metadata": {},
   "outputs": [
    {
     "name": "stdout",
     "output_type": "stream",
     "text": [
      "Reading Inverted Files: \n"
     ]
    },
    {
     "data": {
      "application/vnd.jupyter.widget-view+json": {
       "model_id": "82a8b11f10054cea9e5faf9924103a12",
       "version_major": 2,
       "version_minor": 0
      },
      "text/plain": [
       "HBox(children=(FloatProgress(value=0.0, max=1194000.0), HTML(value='')))"
      ]
     },
     "metadata": {},
     "output_type": "display_data"
    }
   ],
   "source": [
    "import parser\n",
    "import sparse_matrix\n",
    "import predict\n",
    "\n",
    "configs = {\n",
    "    \"k\": 1.5,\n",
    "    \"b\": 0.5,\n",
    "    \"alpha\": 1,\n",
    "    \"beta\": 0.75,\n",
    "    \"gamma\": 0.15,\n",
    "    \"target\": 100,\n",
    "    \"rochio\": False,\n",
    "    \"query_path\": \"../queries/query-test.xml\",\n",
    "    \"output_path\": \"../prediction.csv\",\n",
    "    \"model_path\": \"../model\",\n",
    "    \"corpus_path\": \"../CIRB010\",\n",
    "\n",
    "}\n",
    "\n",
    "if __name__ == '__main__':\n",
    "#     parser.parse_arg(configs)\n",
    "    fname_to_id, id_to_fname, id_to_doclen = parser.parse_file_list(configs)\n",
    "    vocab_to_id, id_to_vocab = parser.parse_vocab_list(configs)\n",
    "    N = len(fname_to_id)\n",
    "    inverted_files = parser.parse_inverted_file(configs, N)\n",
    "    old_inverted_files = inverted_files.copy()\n",
    "    "
   ]
  },
  {
   "cell_type": "code",
   "execution_count": 38,
   "metadata": {},
   "outputs": [],
   "source": [
    "# Save checkpoint for notebook\n",
    "inverted_files = old_inverted_files.copy()\n",
    "avdl = sum(id_to_doclen.values()) / len(id_to_doclen)\n",
    "corpus = {\n",
    "    \"fname_to_id\": fname_to_id,\n",
    "    \"id_to_doclen\": id_to_doclen,\n",
    "    \"id_to_fname\": id_to_fname,\n",
    "    \"vocab_to_id\": vocab_to_id,\n",
    "    \"id_to_vocab\": id_to_vocab,\n",
    "    \"inverted_files\": inverted_files,\n",
    "    \"avdl\": avdl,\n",
    "}\n",
    "sparse_matrix.gen_matrix(corpus, configs)\n",
    "id_to_magnitude = sparse_matrix.gen_id_to_magnitude(corpus, configs)\n",
    "corpus[\"id_to_magnitude\"] = id_to_magnitude"
   ]
  },
  {
   "cell_type": "code",
   "execution_count": 41,
   "metadata": {},
   "outputs": [
    {
     "name": "stdout",
     "output_type": "stream",
     "text": [
      "The autoreload extension is already loaded. To reload it, use:\n",
      "  %reload_ext autoreload\n",
      "Processing Query\n"
     ]
    },
    {
     "data": {
      "application/vnd.jupyter.widget-view+json": {
       "model_id": "eca646f91792485799b05a18ab87f6b6",
       "version_major": 2,
       "version_minor": 0
      },
      "text/plain": [
       "HBox(children=(FloatProgress(value=0.0, max=20.0), HTML(value='')))"
      ]
     },
     "metadata": {},
     "output_type": "display_data"
    },
    {
     "name": "stdout",
     "output_type": "stream",
     "text": [
      "\n"
     ]
    },
    {
     "data": {
      "application/vnd.jupyter.widget-view+json": {
       "model_id": "6b9bd4b190664ccf9794b24407641bcc",
       "version_major": 2,
       "version_minor": 0
      },
      "text/plain": [
       "HBox(children=(FloatProgress(value=0.0, max=1.0), HTML(value='')))"
      ]
     },
     "metadata": {},
     "output_type": "display_data"
    },
    {
     "data": {
      "application/vnd.jupyter.widget-view+json": {
       "model_id": "aa2d8e4f66824dc3aebece6473238c0b",
       "version_major": 2,
       "version_minor": 0
      },
      "text/plain": [
       "HBox(children=(FloatProgress(value=0.0, max=20.0), HTML(value='')))"
      ]
     },
     "metadata": {},
     "output_type": "display_data"
    },
    {
     "name": "stdout",
     "output_type": "stream",
     "text": [
      "\n",
      "\n"
     ]
    }
   ],
   "source": [
    "import parser\n",
    "import sparse_matrix\n",
    "import predict\n",
    "import rocchio\n",
    "from tqdm.auto import tqdm\n",
    "\n",
    "%load_ext autoreload\n",
    "%autoreload 2\n",
    "\n",
    "configs[\"title_weight\"] = 1\n",
    "configs[\"question_weight\"] = 1\n",
    "configs[\"concepts_weight\"] = 1\n",
    "configs[\"narrative_weight\"] = 1\n",
    "configs[\"query_path\"] = \"../queries/query-test.xml\"\n",
    "configs[\"cdn\"] = 1\n",
    "configs[\"ctc\"] = 1\n",
    "configs[\"cte\"] = 1\n",
    "configs[\"cts\"] = 1\n",
    "configs[\"unigram_weight\"] = 1\n",
    "configs[\"bigram_weight\"] = 1\n",
    "configs[\"rocchio_iters\"] = 1\n",
    "configs[\"use_cosine\"] = False\n",
    "\n",
    "print(\"Processing Query\")\n",
    "queries = parser.parse_queries(corpus, configs, configs[\"query_path\"])\n",
    "queries = sparse_matrix.gen_query_vector(queries, corpus, configs)\n",
    "query_to_magnitude = sparse_matrix.gen_query_to_magnitude(queries)\n",
    "query_responses = []\n",
    "for query in tqdm(queries):\n",
    "    response = predict.predict_query(query, corpus, configs)\n",
    "    query_responses.append(response)\n",
    "#     print(response)\n",
    "\n",
    "for _ in tqdm(range(configs[\"rocchio_iters\"])):\n",
    "    for i in tqdm(range(len(query_responses))):\n",
    "        rocchio.rocchio_feedback(query_responses[i], queries[i],  corpus, configs)\n",
    "        response = predict.predict_query(queries[i], corpus, configs)\n",
    "        query_responses[i] = response\n"
   ]
  },
  {
   "cell_type": "code",
   "execution_count": 42,
   "metadata": {},
   "outputs": [
    {
     "name": "stdout",
     "output_type": "stream",
     "text": [
      "['cts_foc_0002188', 'cdn_foc_0002189', 'cdn_foc_0006865', 'cte_foc_0001449', 'cdn_foc_0006869', 'cdn_soc_0002239', 'cte_foc_0001454', 'cts_soc_0004302', 'cdn_foc_0006866', 'cts_soc_0004301', 'cts_foc_0002187', 'cdn_foc_0006868', 'cts_soc_0002407', 'cdn_foc_0006870', 'cts_foc_0002185', 'cts_esy_0000206', 'cts_soc_0005432', 'cts_soc_0005346', 'cte_foc_0001482', 'cts_foc_0002186', 'cts_soc_0002655', 'cdn_foc_0006872', 'cdn_soc_0002234', 'cdn_soc_0002235', 'cts_soc_0003399', 'cdn_foc_0006867', 'cts_foc_0002181', 'cts_soc_0002667', 'cts_for_0000848', 'cts_soc_0001344', 'cts_for_0000839', 'cts_soc_0001509', 'cts_foc_0001340', 'cte_foc_0002164', 'cte_foc_0001505', 'cts_foc_0003151', 'cts_soc_0003418', 'cts_foc_0001318', 'cts_foc_0003150', 'cte_foc_0002845', 'cts_soc_0002814', 'cts_soc_0004507', 'cts_chi_0001815', 'cts_soc_0001424', 'cts_foc_0005232', 'cts_soc_0005778', 'cts_soc_0004909', 'cte_foc_0003473', 'cts_foc_0002183', 'cts_soc_0002553', 'cts_soc_0001197', 'cts_soc_0004152', 'cdn_soc_0002963', 'cts_soc_0003452', 'cts_soc_0000496', 'cts_soc_0000085', 'cts_foc_0004309', 'cdn_foc_0007633', 'cts_soc_0000214', 'cte_foc_0002731', 'cts_chi_0001654', 'cts_soc_0001209', 'cts_soc_0004077', 'cdn_soc_0002379', 'cts_soc_0000216', 'cts_for_0000511', 'cts_soc_0000933', 'cdn_chi_0001284', 'cts_soc_0000923', 'cts_soc_0003018', 'cdn_foc_0001422', 'cte_foc_0000940', 'cte_foc_0000360', 'cte_foc_0002738', 'cts_soc_0000928', 'cte_foc_0001639', 'cts_soc_0003453', 'cdn_chi_0000733', 'cte_foc_0000934', 'cte_foc_0002168', 'cts_art_0001571', 'cts_soc_0001522', 'cts_soc_0002115', 'cts_soc_0001169', 'cts_soc_0001333', 'cts_soc_0001323', 'cts_pol_0002876', 'cts_soc_0000601', 'cts_soc_0001775', 'cts_pol_0001010', 'cts_soc_0003128', 'cdn_soc_0004942', 'cts_for_0000837', 'cdn_foc_0007629', 'cts_foc_0003520', 'cts_soc_0002690', 'cts_soc_0000784', 'cts_chi_0001328', 'cte_esy_0000105', 'cts_soc_0002951']\n",
      "[0.0, 0.027417027417027416, 0.0, 0.0, 0.0, 0.0, 0.0, 0.0, 0.0, 0.0]\n",
      "0.0027417027417027417\n"
     ]
    }
   ],
   "source": [
    "predict.process_predictions(query_responses, configs)\n",
    "\n",
    "print(query_responses[0])\n",
    "predict.write_predictions(query_responses, queries)\n",
    "predict.calc_MAP(query_responses, configs)"
   ]
  },
  {
   "cell_type": "markdown",
   "metadata": {},
   "source": [
    "### TODO!!!\n",
    "* Add rochio\n",
    "* Add logarithmic(?)\n",
    "Add weighting to different components (title, 關鍵字)\n",
    "Add weighting to different document source (cdn, cts, etc)"
   ]
  }
 ],
 "metadata": {
  "kernelspec": {
   "display_name": "Python 3",
   "language": "python",
   "name": "python3"
  },
  "language_info": {
   "codemirror_mode": {
    "name": "ipython",
    "version": 3
   },
   "file_extension": ".py",
   "mimetype": "text/x-python",
   "name": "python",
   "nbconvert_exporter": "python",
   "pygments_lexer": "ipython3",
   "version": "3.7.6"
  }
 },
 "nbformat": 4,
 "nbformat_minor": 4
}
