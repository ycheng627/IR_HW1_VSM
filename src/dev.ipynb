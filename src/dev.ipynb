{
 "cells": [
  {
   "cell_type": "code",
   "execution_count": 3,
   "metadata": {},
   "outputs": [
    {
     "name": "stdout",
     "output_type": "stream",
     "text": [
      "Reading Inverted Files: \n"
     ]
    },
    {
     "data": {
      "application/vnd.jupyter.widget-view+json": {
       "model_id": "deea6d8e00204918b883103bac9d484e",
       "version_major": 2,
       "version_minor": 0
      },
      "text/plain": [
       "HBox(children=(FloatProgress(value=0.0, max=1193467.0), HTML(value='')))"
      ]
     },
     "metadata": {},
     "output_type": "display_data"
    }
   ],
   "source": [
    "import parser\n",
    "import sparse_matrix\n",
    "import predict\n",
    "import rocchio\n",
    "from tqdm.auto import tqdm\n",
    "\n",
    "configs = {\n",
    "    \"k\": 1.5,\n",
    "    \"b\": 0.5,\n",
    "    \"alpha\": 1,\n",
    "    \"beta\": 0.75,\n",
    "    \"gamma\": 0.15,\n",
    "    \"target\": 100,\n",
    "    \"use_rochio\": False,\n",
    "    \"query_path\": \"../queries/query-test.xml\",\n",
    "    \"output_path\": \"../prediction.csv\",\n",
    "    \"model_path\": \"../model\",\n",
    "    \"corpus_path\": \"../CIRB010\",\n",
    "    \"title_weight\": 1,\n",
    "    \"question_weight\": 1,\n",
    "    \"concepts_weight\": 1,\n",
    "    \"narrative_weight\": 1,\n",
    "    \"query_path\": \"../queries/query-train.xml\",\n",
    "    \"cdn\": 1,\n",
    "    \"ctc\": 1,\n",
    "    \"cte\": 1,\n",
    "    \"cts\": 1,\n",
    "    \"unigram_weight\": 1,\n",
    "    \"bigram_weight\": 1,\n",
    "    \"rocchio_iters\": 1,\n",
    "    \"use_cosine\": False\n",
    "}\n",
    "\n",
    "if __name__ == '__main__':\n",
    "#     parser.parse_arg(configs)\n",
    "    fname_to_id, id_to_fname = parser.parse_file_list(configs)\n",
    "    vocab_to_id, id_to_vocab = parser.parse_vocab_list(configs)\n",
    "    doc_count = len(fname_to_id)\n",
    "    inverted_files, gram_to_id, gram_count, id_to_doclen = parser.parse_inverted_file(configs, doc_count)\n",
    "    configs[\"gram_count\"] = gram_count\n",
    "    configs[\"doc_count\"] = doc_count\n",
    "    # Save checkpoint for notebook\n",
    "    avdl = sum(id_to_doclen.values()) / len(id_to_doclen)\n",
    "    corpus = {\n",
    "        \"fname_to_id\": fname_to_id,\n",
    "        \"id_to_doclen\": id_to_doclen,\n",
    "        \"id_to_fname\": id_to_fname,\n",
    "        \"vocab_to_id\": vocab_to_id,\n",
    "        \"id_to_vocab\": id_to_vocab,\n",
    "        \"inverted_files\": inverted_files,\n",
    "        \"gram_to_id\": gram_to_id,\n",
    "        \"avdl\": avdl,\n",
    "    }\n",
    "    corpus[\"sparse\"] = sparse_matrix.gen_matrix(corpus, configs)\n"
   ]
  },
  {
   "cell_type": "code",
   "execution_count": 4,
   "metadata": {},
   "outputs": [
    {
     "name": "stdout",
     "output_type": "stream",
     "text": [
      "Processing Query\n"
     ]
    },
    {
     "data": {
      "application/vnd.jupyter.widget-view+json": {
       "model_id": "3acd423c1d36434b8c4137346c7a68aa",
       "version_major": 2,
       "version_minor": 0
      },
      "text/plain": [
       "HBox(children=(FloatProgress(value=0.0, max=10.0), HTML(value='')))"
      ]
     },
     "metadata": {},
     "output_type": "display_data"
    },
    {
     "name": "stdout",
     "output_type": "stream",
     "text": [
      "\n",
      "Rocchio Feedback\n"
     ]
    },
    {
     "data": {
      "application/vnd.jupyter.widget-view+json": {
       "model_id": "47a9dc60c15f4030b79bcb7421456f88",
       "version_major": 2,
       "version_minor": 0
      },
      "text/plain": [
       "HBox(children=(FloatProgress(value=0.0, max=1.0), HTML(value='')))"
      ]
     },
     "metadata": {},
     "output_type": "display_data"
    },
    {
     "data": {
      "application/vnd.jupyter.widget-view+json": {
       "model_id": "1a3eee1798c8467fa58706efd9e0d37c",
       "version_major": 2,
       "version_minor": 0
      },
      "text/plain": [
       "HBox(children=(FloatProgress(value=0.0, max=10.0), HTML(value='')))"
      ]
     },
     "metadata": {},
     "output_type": "display_data"
    },
    {
     "name": "stdout",
     "output_type": "stream",
     "text": [
      "\n",
      "\n",
      "[0.8020280876118666, 0.812412084992768, 0.785776642483416, 0.8419793169793169, 0.8614279099127584, 0.3412473595311134, 0.7086256919432434, 0.7292451573204417, 0.6326719576719577, 0.6484441289602075]\n",
      "0.716385833740709\n"
     ]
    }
   ],
   "source": [
    "\n",
    "print(\"Processing Query\")\n",
    "queries = parser.parse_queries(corpus, configs, configs[\"query_path\"])\n",
    "sparse_queries = []\n",
    "for query in queries:\n",
    "    sparse_queries.append( sparse_matrix.gen_query_vector(query, corpus, configs) )\n",
    "query_responses = []\n",
    "for sparse_query in tqdm(sparse_queries):\n",
    "    query_responses.append( predict.predict_query(sparse_query, corpus, configs) )\n",
    "print(\"Rocchio Feedback\")\n",
    "for _ in tqdm(range(configs[\"rocchio_iters\"])):\n",
    "    for i in tqdm(range(len(query_responses))):\n",
    "        sparse_queries[i] = rocchio.rocchio_feedback(query_responses[i], sparse_queries[i],  corpus, configs)\n",
    "        response = predict.predict_query(sparse_queries[i], corpus, configs)\n",
    "        query_responses[i] = response\n",
    "predict.process_predictions(query_responses, configs, corpus)\n",
    "predict.write_predictions(query_responses, queries)\n",
    "predict.calc_MAP(query_responses, configs)"
   ]
  }
 ],
 "metadata": {
  "kernelspec": {
   "display_name": "Python 3",
   "language": "python",
   "name": "python3"
  },
  "language_info": {
   "codemirror_mode": {
    "name": "ipython",
    "version": 3
   },
   "file_extension": ".py",
   "mimetype": "text/x-python",
   "name": "python",
   "nbconvert_exporter": "python",
   "pygments_lexer": "ipython3",
   "version": "3.7.6"
  }
 },
 "nbformat": 4,
 "nbformat_minor": 4
}
