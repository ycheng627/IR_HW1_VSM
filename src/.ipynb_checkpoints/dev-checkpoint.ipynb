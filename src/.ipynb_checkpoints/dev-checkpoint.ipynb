{
 "cells": [
  {
   "cell_type": "code",
   "execution_count": 12,
   "metadata": {},
   "outputs": [
    {
     "name": "stdout",
     "output_type": "stream",
     "text": [
      "The autoreload extension is already loaded. To reload it, use:\n",
      "  %reload_ext autoreload\n",
      "Reading Inverted Files: \n"
     ]
    },
    {
     "data": {
      "application/vnd.jupyter.widget-view+json": {
       "model_id": "211020b02565459db7acd5106751a41a",
       "version_major": 2,
       "version_minor": 0
      },
      "text/plain": [
       "HBox(children=(FloatProgress(value=0.0, max=1193467.0), HTML(value='')))"
      ]
     },
     "metadata": {},
     "output_type": "display_data"
    }
   ],
   "source": [
    "import parser\n",
    "import sparse_matrix\n",
    "import predict\n",
    "\n",
    "%load_ext autoreload\n",
    "%autoreload 2\n",
    "\n",
    "configs = {\n",
    "    \"k\": 1.5,\n",
    "    \"b\": 0.5,\n",
    "    \"alpha\": 1,\n",
    "    \"beta\": 0.75,\n",
    "    \"gamma\": 0.15,\n",
    "    \"target\": 100,\n",
    "    \"rochio\": False,\n",
    "    \"query_path\": \"../queries/query-test.xml\",\n",
    "    \"output_path\": \"../prediction.csv\",\n",
    "    \"model_path\": \"../model\",\n",
    "    \"corpus_path\": \"../CIRB010\",\n",
    "\n",
    "}\n",
    "\n",
    "if __name__ == '__main__':\n",
    "#     parser.parse_arg(configs)\n",
    "    fname_to_id, id_to_fname, id_to_doclen = parser.parse_file_list(configs)\n",
    "    vocab_to_id, id_to_vocab = parser.parse_vocab_list(configs)\n",
    "    doc_count = len(fname_to_id)\n",
    "    inverted_files, gram_to_id, gram_count = parser.parse_inverted_file(configs, doc_count)\n",
    "    old_inverted_files = inverted_files.copy()\n",
    "    "
   ]
  },
  {
   "cell_type": "code",
   "execution_count": 13,
   "metadata": {},
   "outputs": [
    {
     "name": "stdout",
     "output_type": "stream",
     "text": [
      "1193467\n",
      "46972\n"
     ]
    }
   ],
   "source": [
    "print(gram_count)\n",
    "print(doc_count)\n",
    "configs[\"gram_count\"] = gram_count\n",
    "configs[\"doc_count\"] = doc_count"
   ]
  },
  {
   "cell_type": "code",
   "execution_count": 14,
   "metadata": {},
   "outputs": [
    {
     "data": {
      "application/vnd.jupyter.widget-view+json": {
       "model_id": "6b3708eeb6804245b73c13bb2e2e451d",
       "version_major": 2,
       "version_minor": 0
      },
      "text/plain": [
       "HBox(children=(FloatProgress(value=0.0, max=1193467.0), HTML(value='')))"
      ]
     },
     "metadata": {},
     "output_type": "display_data"
    },
    {
     "name": "stdout",
     "output_type": "stream",
     "text": [
      "0 {'IDF': 9.841037515662922, 'docs': {33689: 1, 38365: 1}, 'max_freq': 1}\n",
      "1 {'IDF': 10.351863139428913, 'docs': {33256: 1}, 'max_freq': 1}\n",
      "2 {'IDF': 10.351863139428913, 'docs': {33256: 1}, 'max_freq': 1}\n",
      "3 {'IDF': 10.351863139428913, 'docs': {10849: 2}, 'max_freq': 2}\n",
      "4 {'IDF': 10.351863139428913, 'docs': {10849: 1}, 'max_freq': 1}\n",
      "1193463 {'IDF': 10.351863139428913, 'docs': {32692: 1}, 'max_freq': 1}\n",
      "1193464 {'IDF': 10.351863139428913, 'docs': {13117: 1}, 'max_freq': 1}\n",
      "1193465 {'IDF': 10.351863139428913, 'docs': {13117: 1}, 'max_freq': 1}\n",
      "1193466 {'IDF': 10.351863139428913, 'docs': {30308: 1}, 'max_freq': 1}\n",
      "\n"
     ]
    }
   ],
   "source": [
    "# Save checkpoint for notebook\n",
    "inverted_files = old_inverted_files.copy()\n",
    "avdl = sum(id_to_doclen.values()) / len(id_to_doclen)\n",
    "corpus = {\n",
    "    \"fname_to_id\": fname_to_id,\n",
    "    \"id_to_doclen\": id_to_doclen,\n",
    "    \"id_to_fname\": id_to_fname,\n",
    "    \"vocab_to_id\": vocab_to_id,\n",
    "    \"id_to_vocab\": id_to_vocab,\n",
    "    \"inverted_files\": inverted_files,\n",
    "    \"gram_to_id\": gram_to_id,\n",
    "    \"avdl\": avdl,\n",
    "}\n",
    "corpus[\"sparse\"] = sparse_matrix.gen_matrix(corpus, configs)\n",
    "# id_to_magnitude = sparse_matrix.gen_id_to_magnitude(corpus, configs)\n",
    "# corpus[\"id_to_magnitude\"] = id_to_magnitude"
   ]
  },
  {
   "cell_type": "code",
   "execution_count": 16,
   "metadata": {},
   "outputs": [
    {
     "name": "stdout",
     "output_type": "stream",
     "text": [
      "  (0, 17145)\t4.013536439802942\n",
      "  (0, 17232)\t8.940033559431845\n",
      "  (0, 17384)\t6.909244752577779\n",
      "  (0, 17595)\t2.544576699714985\n",
      "  (0, 18141)\t11.0610461501555\n",
      "  (0, 20345)\t1.5918434473559662\n",
      "  (0, 20709)\t8.45074843390356\n",
      "  (0, 29889)\t3.621771862663303\n",
      "  (0, 29890)\t7.014694363918147\n",
      "  (0, 34213)\t2.4069478445579717\n",
      "  (0, 34235)\t3.5793639237055936\n",
      "  (0, 43871)\t0.6500078556999438\n",
      "  (0, 44782)\t3.367668314300231\n",
      "  (0, 44998)\t0.8427240971451537\n",
      "  (0, 45041)\t3.8956996479929935\n",
      "  (0, 45565)\t0.7541831544489747\n",
      "  (0, 45615)\t2.0492278635141714\n",
      "  (0, 46407)\t0.7794325605020581\n",
      "  (0, 46483)\t4.383871275722084\n",
      "  (0, 46583)\t5.313963965370928\n",
      "  (0, 46966)\t4.983538935012084\n",
      "  (0, 47006)\t0.7493722649053098\n",
      "  (0, 47444)\t3.0810031286043906\n",
      "  (0, 50894)\t0.7588632928750838\n",
      "  (0, 51120)\t1.8143711833793346\n",
      "  :\t:\n",
      "  (46971, 1142894)\t0.8881862939245703\n",
      "  (46971, 1142991)\t2.5585044153166727\n",
      "  (46971, 1143028)\t0.6031712584389829\n",
      "  (46971, 1143033)\t2.647998951833788\n",
      "  (46971, 1143211)\t2.9460978080245623\n",
      "  (46971, 1143563)\t1.411457740117932\n",
      "  (46971, 1143737)\t3.5015789820663348\n",
      "  (46971, 1143845)\t3.7357861675699016\n",
      "  (46971, 1143915)\t1.6520676172270605\n",
      "  (46971, 1144344)\t3.3643947563144105\n",
      "  (46971, 1144734)\t3.7460929659252904\n",
      "  (46971, 1144776)\t3.577933183373408\n",
      "  (46971, 1144861)\t2.358589463622912\n",
      "  (46971, 1144909)\t5.479548956870483\n",
      "  (46971, 1145021)\t5.59219754719303\n",
      "  (46971, 1145306)\t3.2349025624528953\n",
      "  (46971, 1145374)\t11.521516278507589\n",
      "  (46971, 1145395)\t2.0869485475592002\n",
      "  (46971, 1145767)\t2.028335634625269\n",
      "  (46971, 1148292)\t2.743038468642601\n",
      "  (46971, 1148347)\t3.3817026124914173\n",
      "  (46971, 1148845)\t4.7216214582083635\n",
      "  (46971, 1149046)\t4.514461148273101\n",
      "  (46971, 1149090)\t11.168549807289969\n",
      "  (46971, 1150076)\t1.7197842094230291\n"
     ]
    },
    {
     "name": "stderr",
     "output_type": "stream",
     "text": [
      "IOPub data rate exceeded.\n",
      "The notebook server will temporarily stop sending output\n",
      "to the client in order to avoid crashing it.\n",
      "To change this limit, set the config variable\n",
      "`--NotebookApp.iopub_data_rate_limit`.\n",
      "\n",
      "Current values:\n",
      "NotebookApp.iopub_data_rate_limit=1000000.0 (bytes/sec)\n",
      "NotebookApp.rate_limit_window=3.0 (secs)\n",
      "\n"
     ]
    }
   ],
   "source": [
    "print(corpus[\"sparse\"])\n",
    "print(corpus[\"gram_to_id\"])"
   ]
  },
  {
   "cell_type": "code",
   "execution_count": 60,
   "metadata": {},
   "outputs": [
    {
     "name": "stdout",
     "output_type": "stream",
     "text": [
      "The autoreload extension is already loaded. To reload it, use:\n",
      "  %reload_ext autoreload\n",
      "Processing Query\n"
     ]
    },
    {
     "data": {
      "application/vnd.jupyter.widget-view+json": {
       "model_id": "a0d11b9448d648b98bfe1fbae0506b00",
       "version_major": 2,
       "version_minor": 0
      },
      "text/plain": [
       "HBox(children=(FloatProgress(value=0.0, max=10.0), HTML(value='')))"
      ]
     },
     "metadata": {},
     "output_type": "display_data"
    },
    {
     "name": "stdout",
     "output_type": "stream",
     "text": [
      "\n"
     ]
    }
   ],
   "source": [
    "import parser\n",
    "import sparse_matrix\n",
    "import predict\n",
    "import rocchio\n",
    "from tqdm.auto import tqdm\n",
    "\n",
    "%load_ext autoreload\n",
    "%autoreload 2\n",
    "\n",
    "configs[\"title_weight\"] = 1\n",
    "configs[\"question_weight\"] = 1\n",
    "configs[\"concepts_weight\"] = 1\n",
    "configs[\"narrative_weight\"] = 1\n",
    "configs[\"query_path\"] = \"../queries/query-train.xml\"\n",
    "configs[\"cdn\"] = 1\n",
    "configs[\"ctc\"] = 1\n",
    "configs[\"cte\"] = 1\n",
    "configs[\"cts\"] = 1\n",
    "configs[\"unigram_weight\"] = 1\n",
    "configs[\"bigram_weight\"] = 1\n",
    "configs[\"rocchio_iters\"] = 1\n",
    "configs[\"use_cosine\"] = False\n",
    "\n",
    "print(\"Processing Query\")\n",
    "queries = parser.parse_queries(corpus, configs, configs[\"query_path\"])\n",
    "# print(queries[0])\n",
    "sparse_queries = []\n",
    "for query in queries:\n",
    "    sparse_queries.append( sparse_matrix.gen_query_vector(query, corpus, configs) )\n",
    "# query_to_magnitude = sparse_matrix.gen_query_to_magnitude(queries)\n",
    "query_responses = []\n",
    "for sparse_query in tqdm(sparse_queries):\n",
    "    query_responses.append( predict.predict_query(sparse_query, corpus, configs) )\n",
    "#     print(response)\n",
    "\n"
   ]
  },
  {
   "cell_type": "code",
   "execution_count": 72,
   "metadata": {},
   "outputs": [
    {
     "data": {
      "application/vnd.jupyter.widget-view+json": {
       "model_id": "580648edc7d547ea9dd9f08af4807690",
       "version_major": 2,
       "version_minor": 0
      },
      "text/plain": [
       "HBox(children=(FloatProgress(value=0.0, max=1.0), HTML(value='')))"
      ]
     },
     "metadata": {},
     "output_type": "display_data"
    },
    {
     "data": {
      "application/vnd.jupyter.widget-view+json": {
       "model_id": "c80be625df834d4fb0af54cd2816916b",
       "version_major": 2,
       "version_minor": 0
      },
      "text/plain": [
       "HBox(children=(FloatProgress(value=0.0, max=10.0), HTML(value='')))"
      ]
     },
     "metadata": {},
     "output_type": "display_data"
    },
    {
     "name": "stdout",
     "output_type": "stream",
     "text": [
      "  (0, 42131)\t0.8855762998753888\n",
      "  (0, 42653)\t4.395433671411714\n",
      "  (0, 52628)\t1.8409354386411099\n",
      "  (0, 53480)\t3.8194430672758424\n",
      "  (0, 68569)\t0.2842053029813891\n",
      "  (0, 69647)\t9.413205989560076\n",
      "  (0, 73285)\t1.6962711217061102\n",
      "  (0, 73601)\t5.357588522116451\n",
      "  (0, 85656)\t1.1301753568691024\n",
      "  (0, 85955)\t9.29288130151587\n",
      "  (0, 86402)\t6.203679525489034\n",
      "  (0, 87113)\t2.481405763003997\n",
      "  (0, 90642)\t1.4486880134693676\n",
      "  (0, 90782)\t1.7026403454628933\n",
      "  (0, 108776)\t0.6278126693321412\n",
      "  (0, 108942)\t8.217187791369634\n",
      "  (0, 110113)\t5.451743968390048\n",
      "  (0, 113519)\t1.416402172718344\n",
      "  (0, 113684)\t8.600011840229161\n",
      "  (0, 119819)\t1.7634678442430276\n",
      "  (0, 120254)\t5.688130759422787\n",
      "  (0, 120536)\t3.9215856103062716\n",
      "  (0, 122557)\t1.1894889673715168\n",
      "  (0, 143419)\t2.768514195915545\n",
      "  (0, 143815)\t11.867504737507687\n",
      "  :\t:\n",
      "  (0, 1041251)\t5.670530526840753\n",
      "  (0, 1054634)\t1.827243503954262\n",
      "  (0, 1055492)\t6.599896225067543\n",
      "  (0, 1085376)\t3.21340425641691\n",
      "  (0, 1085479)\t5.959844967220045\n",
      "  (0, 1088531)\t2.786130562642991\n",
      "  (0, 1091750)\t1.4730812014486176\n",
      "  (0, 1091905)\t7.60923637946087\n",
      "  (0, 1096449)\t2.1198158261850346\n",
      "  (0, 1097055)\t9.371830699795902\n",
      "  (0, 1099646)\t1.9149594425395287\n",
      "  (0, 1099892)\t7.60923637946087\n",
      "  (0, 1100534)\t2.176660977640807\n",
      "  (0, 1107108)\t4.807288850230277\n",
      "  (0, 1109039)\t7.043680017783609\n",
      "  (0, 1109040)\t10.28132853050952\n",
      "  (0, 1115550)\t1.4253492883993395\n",
      "  (0, 1115751)\t7.299572700957652\n",
      "  (0, 1116372)\t3.831842501088406\n",
      "  (0, 1142287)\t0.001140919923003021\n",
      "  (0, 1143727)\t3.268067914482924\n",
      "  (0, 1144406)\t6.057411003736189\n",
      "  (0, 1144612)\t3.3941330087847397\n",
      "  (0, 1144687)\t0.9815190213135742\n",
      "  (0, 1145415)\t6.470644023903645\n",
      "  (0, 2346)\t0.12492965517721674\n",
      "  (0, 2347)\t0.12492965517721674\n",
      "  (0, 4017)\t0.4606250133817689\n",
      "  (0, 4047)\t0.13787179347689152\n",
      "  (0, 4055)\t0.1000039339169597\n",
      "  (0, 4062)\t0.11152154972485746\n",
      "  (0, 4079)\t0.16278538684702087\n",
      "  (0, 4086)\t0.23478535630163147\n",
      "  (0, 4120)\t0.18566286508886318\n",
      "  (0, 4180)\t0.12958053414730344\n",
      "  (0, 4203)\t0.226251344119818\n",
      "  (0, 4248)\t0.1405984869726406\n",
      "  (0, 4353)\t0.14227796788662922\n",
      "  (0, 4393)\t0.3360875342274974\n",
      "  (0, 4429)\t0.11822194623347804\n",
      "  (0, 4456)\t0.13093495793029597\n",
      "  (0, 4488)\t0.18566286508886318\n",
      "  (0, 4506)\t0.10648035932336047\n",
      "  (0, 4611)\t0.15931676428608527\n",
      "  (0, 5020)\t0.1090678795112658\n",
      "  (0, 5110)\t0.25829912483410616\n",
      "  (0, 5234)\t0.13895688185119753\n",
      "  (0, 5340)\t0.2430005184626542\n",
      "  (0, 5456)\t0.07238921853990873\n",
      "  (0, 5470)\t0.1295860821478967\n",
      "  :\t:\n",
      "  (0, 1184649)\t0.11843728240513268\n",
      "  (0, 1184897)\t0.07499536202525912\n",
      "  (0, 1184920)\t0.10851212605859613\n",
      "  (0, 1185785)\t0.13063254559434506\n",
      "  (0, 1185786)\t0.14227796788662922\n",
      "  (0, 1186459)\t0.10298292693772797\n",
      "  (0, 1186466)\t0.14952960935123014\n",
      "  (0, 1186489)\t0.14227796788662922\n",
      "  (0, 1186490)\t0.14227796788662922\n",
      "  (0, 1187885)\t0.10601504496312134\n",
      "  (0, 1188055)\t0.10399592481381209\n",
      "  (0, 1188057)\t0.12492965517721674\n",
      "  (0, 1188083)\t0.1698133094977759\n",
      "  (0, 1188090)\t0.20107511285844054\n",
      "  (0, 1190001)\t0.08928353960652533\n",
      "  (0, 1190023)\t0.12266235865900128\n",
      "  (0, 1190072)\t0.1527103810336172\n",
      "  (0, 1190073)\t0.1527103810336172\n",
      "  (0, 1191216)\t0.15531804329243815\n",
      "  (0, 1191217)\t0.15531804329243815\n",
      "  (0, 1191315)\t0.12492965517721674\n",
      "  (0, 1191316)\t0.12492965517721674\n",
      "  (0, 1191503)\t0.3106571176772064\n",
      "  (0, 1191504)\t0.20107511285844054\n",
      "  (0, 1191505)\t0.20107511285844054\n"
     ]
    },
    {
     "ename": "AttributeError",
     "evalue": "'dict' object has no attribute 'transpose'",
     "output_type": "error",
     "traceback": [
      "\u001b[0;31m---------------------------------------------------------------------------\u001b[0m",
      "\u001b[0;31mAttributeError\u001b[0m                            Traceback (most recent call last)",
      "\u001b[0;32m<ipython-input-72-068d1f4ceb40>\u001b[0m in \u001b[0;36m<module>\u001b[0;34m\u001b[0m\n\u001b[1;32m      2\u001b[0m     \u001b[0;32mfor\u001b[0m \u001b[0mi\u001b[0m \u001b[0;32min\u001b[0m \u001b[0mtqdm\u001b[0m\u001b[0;34m(\u001b[0m\u001b[0mrange\u001b[0m\u001b[0;34m(\u001b[0m\u001b[0mlen\u001b[0m\u001b[0;34m(\u001b[0m\u001b[0mquery_responses\u001b[0m\u001b[0;34m)\u001b[0m\u001b[0;34m)\u001b[0m\u001b[0;34m)\u001b[0m\u001b[0;34m:\u001b[0m\u001b[0;34m\u001b[0m\u001b[0;34m\u001b[0m\u001b[0m\n\u001b[1;32m      3\u001b[0m         \u001b[0mrocchio\u001b[0m\u001b[0;34m.\u001b[0m\u001b[0mrocchio_feedback\u001b[0m\u001b[0;34m(\u001b[0m\u001b[0mquery_responses\u001b[0m\u001b[0;34m[\u001b[0m\u001b[0mi\u001b[0m\u001b[0;34m]\u001b[0m\u001b[0;34m,\u001b[0m \u001b[0msparse_queries\u001b[0m\u001b[0;34m[\u001b[0m\u001b[0mi\u001b[0m\u001b[0;34m]\u001b[0m\u001b[0;34m,\u001b[0m  \u001b[0mcorpus\u001b[0m\u001b[0;34m,\u001b[0m \u001b[0mconfigs\u001b[0m\u001b[0;34m)\u001b[0m\u001b[0;34m\u001b[0m\u001b[0;34m\u001b[0m\u001b[0m\n\u001b[0;32m----> 4\u001b[0;31m         \u001b[0mresponse\u001b[0m \u001b[0;34m=\u001b[0m \u001b[0mpredict\u001b[0m\u001b[0;34m.\u001b[0m\u001b[0mpredict_query\u001b[0m\u001b[0;34m(\u001b[0m\u001b[0mqueries\u001b[0m\u001b[0;34m[\u001b[0m\u001b[0mi\u001b[0m\u001b[0;34m]\u001b[0m\u001b[0;34m,\u001b[0m \u001b[0mcorpus\u001b[0m\u001b[0;34m,\u001b[0m \u001b[0mconfigs\u001b[0m\u001b[0;34m)\u001b[0m\u001b[0;34m\u001b[0m\u001b[0;34m\u001b[0m\u001b[0m\n\u001b[0m\u001b[1;32m      5\u001b[0m         \u001b[0mquery_responses\u001b[0m\u001b[0;34m[\u001b[0m\u001b[0mi\u001b[0m\u001b[0;34m]\u001b[0m \u001b[0;34m=\u001b[0m \u001b[0mresponse\u001b[0m\u001b[0;34m\u001b[0m\u001b[0;34m\u001b[0m\u001b[0m\n",
      "\u001b[0;32m~/Desktop/year3/spring/Information_Retrieval/hw1/src/predict.py\u001b[0m in \u001b[0;36mpredict_query\u001b[0;34m(sparse_query, corpus, configs)\u001b[0m\n\u001b[1;32m      9\u001b[0m     \u001b[0msparse_matrix\u001b[0m \u001b[0;34m=\u001b[0m \u001b[0mcorpus\u001b[0m\u001b[0;34m[\u001b[0m\u001b[0;34m\"sparse\"\u001b[0m\u001b[0;34m]\u001b[0m\u001b[0;34m\u001b[0m\u001b[0;34m\u001b[0m\u001b[0m\n\u001b[1;32m     10\u001b[0m     \u001b[0mid_to_fname\u001b[0m \u001b[0;34m=\u001b[0m \u001b[0mcorpus\u001b[0m\u001b[0;34m[\u001b[0m\u001b[0;34m\"id_to_fname\"\u001b[0m\u001b[0;34m]\u001b[0m\u001b[0;34m\u001b[0m\u001b[0;34m\u001b[0m\u001b[0m\n\u001b[0;32m---> 11\u001b[0;31m     \u001b[0mdot_product\u001b[0m \u001b[0;34m=\u001b[0m \u001b[0msparse_matrix\u001b[0m\u001b[0;34m.\u001b[0m\u001b[0mdot\u001b[0m\u001b[0;34m(\u001b[0m\u001b[0msparse_query\u001b[0m\u001b[0;34m.\u001b[0m\u001b[0mtranspose\u001b[0m\u001b[0;34m(\u001b[0m\u001b[0;34m)\u001b[0m\u001b[0;34m)\u001b[0m\u001b[0;34m.\u001b[0m\u001b[0mtoarray\u001b[0m\u001b[0;34m(\u001b[0m\u001b[0;34m)\u001b[0m\u001b[0;34m\u001b[0m\u001b[0;34m\u001b[0m\u001b[0m\n\u001b[0m\u001b[1;32m     12\u001b[0m     \u001b[0mrank\u001b[0m \u001b[0;34m=\u001b[0m \u001b[0msorted\u001b[0m\u001b[0;34m(\u001b[0m\u001b[0mrange\u001b[0m\u001b[0;34m(\u001b[0m\u001b[0mlen\u001b[0m\u001b[0;34m(\u001b[0m\u001b[0mdot_product\u001b[0m\u001b[0;34m)\u001b[0m\u001b[0;34m)\u001b[0m\u001b[0;34m,\u001b[0m \u001b[0mkey\u001b[0m\u001b[0;34m=\u001b[0m\u001b[0;32mlambda\u001b[0m \u001b[0mk\u001b[0m\u001b[0;34m:\u001b[0m \u001b[0mdot_product\u001b[0m\u001b[0;34m[\u001b[0m\u001b[0mk\u001b[0m\u001b[0;34m]\u001b[0m\u001b[0;34m,\u001b[0m \u001b[0mreverse\u001b[0m\u001b[0;34m=\u001b[0m\u001b[0;32mTrue\u001b[0m\u001b[0;34m)\u001b[0m\u001b[0;34m\u001b[0m\u001b[0;34m\u001b[0m\u001b[0m\n\u001b[1;32m     13\u001b[0m     \u001b[0;32mreturn\u001b[0m \u001b[0mrank\u001b[0m\u001b[0;34m\u001b[0m\u001b[0;34m\u001b[0m\u001b[0m\n",
      "\u001b[0;31mAttributeError\u001b[0m: 'dict' object has no attribute 'transpose'"
     ]
    }
   ],
   "source": [
    "for _ in tqdm(range(configs[\"rocchio_iters\"])):\n",
    "    for i in tqdm(range(len(query_responses))):\n",
    "        sparse_queries[i] = rocchio.rocchio_feedback(query_responses[i], sparse_queries[i],  corpus, configs)\n",
    "        response = predict.predict_query(sparse_queries[i], corpus, configs)\n",
    "        query_responses[i] = response"
   ]
  },
  {
   "cell_type": "code",
   "execution_count": 59,
   "metadata": {},
   "outputs": [
    {
     "name": "stdout",
     "output_type": "stream",
     "text": [
      "['cts_for_0002013', 'cts_for_0000925', 'cte_foc_0002798', 'cts_for_0002010', 'cdn_soc_0004946', 'cts_for_0001093', 'cts_soc_0003259', 'cte_foc_0000260', 'cts_soc_0003030', 'cdn_soc_0000300', 'cts_for_0000202', 'cdn_soc_0002307', 'cts_soc_0003580', 'cdn_soc_0003955', 'cts_soc_0002336', 'cdn_loc_0001911', 'cdn_soc_0004947', 'cts_soc_0004817', 'cdn_loc_0000300', 'cte_foc_0001543', 'cdn_soc_0002385', 'cte_foc_0002784', 'cts_for_0000288', 'cts_esy_0000215', 'cts_soc_0000801', 'cts_for_0000180', 'cts_soc_0005595', 'cts_for_0001203', 'cdn_soc_0002219', 'cte_foc_0003486', 'cts_for_0000082', 'cts_ent_0001002', 'ctc_dep_0001540', 'cdn_ent_0000068', 'cdn_soc_0001745', 'cts_soc_0006141', 'cdn_ent_0000749', 'cts_ent_0001662', 'cts_soc_0005821', 'cts_for_0000518', 'cts_for_0001915', 'cts_foc_0003889', 'cts_esy_0000128', 'cts_ent_0000064', 'cdn_soc_0002947', 'cts_foc_0003272', 'cts_ent_0000339', 'cts_ent_0003437', 'cte_foc_0001485', 'cdn_soc_0001627', 'cts_ent_0002596', 'cts_soc_0001848', 'ctc_fin_0002821', 'cdn_foc_0000618', 'cts_soc_0005893', 'ctc_esy_0000163', 'cdn_ent_0000029', 'cts_for_0000323', 'cdn_soc_0004721', 'cdn_soc_0004433', 'cts_esy_0000034', 'cts_soc_0003733', 'cts_soc_0005208', 'cdn_foc_0007696', 'cts_soc_0002209', 'cte_foc_0000558', 'cts_for_0000581', 'cdn_for_0000435', 'cdn_foc_0006516', 'cts_foc_0002126', 'cte_foc_0003313', 'cts_pol_0002142', 'cts_foc_0001321', 'cdn_soc_0004432', 'cts_soc_0004401', 'cdn_foc_0006900', 'cts_soc_0005892', 'cdn_soc_0004715', 'cdn_for_0000140', 'cdn_soc_0004951', 'ctc_dep_0001074', 'cts_pol_0003262', 'cts_soc_0000390', 'cdn_soc_0003603', 'ctc_mnf_0000127', 'cdn_foc_0007864', 'cte_foc_0002622', 'cts_soc_0004898', 'cts_soc_0003522', 'cdn_foc_0007908', 'cdn_ent_0000128', 'cts_soc_0006015', 'cdn_loc_0001921', 'cts_pol_0001413', 'ctc_dep_0001550', 'cdn_soc_0003953', 'cte_foc_0002506', 'cdn_soc_0005143', 'cdn_soc_0003732', 'cdn_loc_0001398']\n",
      "[0.8218652147350899, 0.8297599680656252, 0.8271577633431466, 0.8526414943081609, 0.8671999156847642, 0.45577137309182725, 0.730675321933915, 0.785366882598422, 0.6505291005291005, 0.6834907154818308]\n",
      "0.7504457749771882\n"
     ]
    }
   ],
   "source": [
    "predict.process_predictions(query_responses, configs, corpus)\n",
    "\n",
    "print(query_responses[0])\n",
    "predict.write_predictions(query_responses, queries)\n",
    "predict.calc_MAP(query_responses, configs)"
   ]
  },
  {
   "cell_type": "markdown",
   "metadata": {},
   "source": [
    "### TODO!!!\n",
    "* Add rochio\n",
    "* Add logarithmic(?)\n",
    "Add weighting to different components (title, 關鍵字)\n",
    "Add weighting to different document source (cdn, cts, etc)"
   ]
  }
 ],
 "metadata": {
  "kernelspec": {
   "display_name": "Python 3",
   "language": "python",
   "name": "python3"
  },
  "language_info": {
   "codemirror_mode": {
    "name": "ipython",
    "version": 3
   },
   "file_extension": ".py",
   "mimetype": "text/x-python",
   "name": "python",
   "nbconvert_exporter": "python",
   "pygments_lexer": "ipython3",
   "version": "3.7.6"
  }
 },
 "nbformat": 4,
 "nbformat_minor": 4
}
