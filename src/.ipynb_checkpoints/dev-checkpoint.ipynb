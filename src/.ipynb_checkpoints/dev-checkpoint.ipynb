{
 "cells": [
  {
   "cell_type": "code",
   "execution_count": 89,
   "metadata": {},
   "outputs": [
    {
     "name": "stdout",
     "output_type": "stream",
     "text": [
      "Reading Inverted Files: \n"
     ]
    },
    {
     "data": {
      "application/vnd.jupyter.widget-view+json": {
       "model_id": "e9fa291626ba4e44838467b7f03314b1",
       "version_major": 2,
       "version_minor": 0
      },
      "text/plain": [
       "HBox(children=(FloatProgress(value=0.0, max=1193467.0), HTML(value='')))"
      ]
     },
     "metadata": {},
     "output_type": "display_data"
    },
    {
     "ename": "KeyboardInterrupt",
     "evalue": "",
     "output_type": "error",
     "traceback": [
      "\u001b[0;31m---------------------------------------------------------------------------\u001b[0m",
      "\u001b[0;31mKeyboardInterrupt\u001b[0m                         Traceback (most recent call last)",
      "\u001b[0;32m<ipython-input-89-92fa13316e70>\u001b[0m in \u001b[0;36m<module>\u001b[0;34m\u001b[0m\n\u001b[1;32m     37\u001b[0m     \u001b[0mvocab_to_id\u001b[0m\u001b[0;34m,\u001b[0m \u001b[0mid_to_vocab\u001b[0m \u001b[0;34m=\u001b[0m \u001b[0mparser\u001b[0m\u001b[0;34m.\u001b[0m\u001b[0mparse_vocab_list\u001b[0m\u001b[0;34m(\u001b[0m\u001b[0mconfigs\u001b[0m\u001b[0;34m)\u001b[0m\u001b[0;34m\u001b[0m\u001b[0;34m\u001b[0m\u001b[0m\n\u001b[1;32m     38\u001b[0m     \u001b[0mdoc_count\u001b[0m \u001b[0;34m=\u001b[0m \u001b[0mlen\u001b[0m\u001b[0;34m(\u001b[0m\u001b[0mfname_to_id\u001b[0m\u001b[0;34m)\u001b[0m\u001b[0;34m\u001b[0m\u001b[0;34m\u001b[0m\u001b[0m\n\u001b[0;32m---> 39\u001b[0;31m     \u001b[0minverted_files\u001b[0m\u001b[0;34m,\u001b[0m \u001b[0mgram_to_id\u001b[0m\u001b[0;34m,\u001b[0m \u001b[0mgram_count\u001b[0m \u001b[0;34m=\u001b[0m \u001b[0mparser\u001b[0m\u001b[0;34m.\u001b[0m\u001b[0mparse_inverted_file\u001b[0m\u001b[0;34m(\u001b[0m\u001b[0mconfigs\u001b[0m\u001b[0;34m,\u001b[0m \u001b[0mdoc_count\u001b[0m\u001b[0;34m)\u001b[0m\u001b[0;34m\u001b[0m\u001b[0;34m\u001b[0m\u001b[0m\n\u001b[0m\u001b[1;32m     40\u001b[0m     \u001b[0mconfigs\u001b[0m\u001b[0;34m[\u001b[0m\u001b[0;34m\"gram_count\"\u001b[0m\u001b[0;34m]\u001b[0m \u001b[0;34m=\u001b[0m \u001b[0mgram_count\u001b[0m\u001b[0;34m\u001b[0m\u001b[0;34m\u001b[0m\u001b[0m\n\u001b[1;32m     41\u001b[0m     \u001b[0mconfigs\u001b[0m\u001b[0;34m[\u001b[0m\u001b[0;34m\"doc_count\"\u001b[0m\u001b[0;34m]\u001b[0m \u001b[0;34m=\u001b[0m \u001b[0mdoc_count\u001b[0m\u001b[0;34m\u001b[0m\u001b[0;34m\u001b[0m\u001b[0m\n",
      "\u001b[0;32m~/Desktop/year3/spring/Information_Retrieval/hw1/src/parser.py\u001b[0m in \u001b[0;36mparse_inverted_file\u001b[0;34m(configs, N)\u001b[0m\n\u001b[1;32m    107\u001b[0m             \u001b[0mmax_freq\u001b[0m \u001b[0;34m=\u001b[0m \u001b[0;36m0\u001b[0m\u001b[0;34m\u001b[0m\u001b[0;34m\u001b[0m\u001b[0m\n\u001b[1;32m    108\u001b[0m             \u001b[0;32mfor\u001b[0m \u001b[0m_\u001b[0m \u001b[0;32min\u001b[0m \u001b[0mrange\u001b[0m\u001b[0;34m(\u001b[0m\u001b[0mk\u001b[0m\u001b[0;34m)\u001b[0m\u001b[0;34m:\u001b[0m\u001b[0;34m\u001b[0m\u001b[0;34m\u001b[0m\u001b[0m\n\u001b[0;32m--> 109\u001b[0;31m                 \u001b[0mline\u001b[0m \u001b[0;34m=\u001b[0m \u001b[0mf\u001b[0m\u001b[0;34m.\u001b[0m\u001b[0mreadline\u001b[0m\u001b[0;34m(\u001b[0m\u001b[0;34m)\u001b[0m\u001b[0;34m.\u001b[0m\u001b[0mstrip\u001b[0m\u001b[0;34m(\u001b[0m\u001b[0;34m)\u001b[0m\u001b[0;34m.\u001b[0m\u001b[0msplit\u001b[0m\u001b[0;34m(\u001b[0m\u001b[0;34m)\u001b[0m\u001b[0;34m\u001b[0m\u001b[0;34m\u001b[0m\u001b[0m\n\u001b[0m\u001b[1;32m    110\u001b[0m                 \u001b[0mdoc_id\u001b[0m \u001b[0;34m=\u001b[0m \u001b[0mint\u001b[0m\u001b[0;34m(\u001b[0m\u001b[0mline\u001b[0m\u001b[0;34m[\u001b[0m\u001b[0;36m0\u001b[0m\u001b[0;34m]\u001b[0m\u001b[0;34m)\u001b[0m\u001b[0;34m\u001b[0m\u001b[0;34m\u001b[0m\u001b[0m\n\u001b[1;32m    111\u001b[0m                 \u001b[0mdoc_freq\u001b[0m \u001b[0;34m=\u001b[0m \u001b[0mint\u001b[0m\u001b[0;34m(\u001b[0m\u001b[0mline\u001b[0m\u001b[0;34m[\u001b[0m\u001b[0;36m1\u001b[0m\u001b[0;34m]\u001b[0m\u001b[0;34m)\u001b[0m\u001b[0;34m\u001b[0m\u001b[0;34m\u001b[0m\u001b[0m\n",
      "\u001b[0;31mKeyboardInterrupt\u001b[0m: "
     ]
    }
   ],
   "source": [
    "import parser\n",
    "import sparse_matrix\n",
    "import predict\n",
    "import rocchio\n",
    "from tqdm.auto import tqdm\n",
    "\n",
    "configs = {\n",
    "    \"k\": 1.5,\n",
    "    \"b\": 0.5,\n",
    "    \"alpha\": 1,\n",
    "    \"beta\": 0.75,\n",
    "    \"gamma\": 0.15,\n",
    "    \"target\": 100,\n",
    "    \"use_rochio\": False,\n",
    "    \"query_path\": \"../queries/query-test.xml\",\n",
    "    \"output_path\": \"../prediction.csv\",\n",
    "    \"model_path\": \"../model\",\n",
    "    \"corpus_path\": \"../CIRB010\",\n",
    "    \"title_weight\": 1,\n",
    "    \"question_weight\": 1,\n",
    "    \"concepts_weight\": 1,\n",
    "    \"narrative_weight\": 1,\n",
    "    \"query_path\": \"../queries/query-test.xml\",\n",
    "    \"cdn\": 1,\n",
    "    \"ctc\": 1,\n",
    "    \"cte\": 1,\n",
    "    \"cts\": 1,\n",
    "    \"unigram_weight\": 1,\n",
    "    \"bigram_weight\": 1,\n",
    "    \"rocchio_iters\": 1,\n",
    "    \"use_cosine\": False\n",
    "}\n",
    "\n",
    "if __name__ == '__main__':\n",
    "#     parser.parse_arg(configs)\n",
    "    fname_to_id, id_to_fname = parser.parse_file_list(configs)\n",
    "    vocab_to_id, id_to_vocab = parser.parse_vocab_list(configs)\n",
    "    doc_count = len(fname_to_id)\n",
    "    inverted_files, gram_to_id, gram_count, id_to_doclen = parser.parse_inverted_file(configs, doc_count)\n",
    "    configs[\"gram_count\"] = gram_count\n",
    "    configs[\"doc_count\"] = doc_count\n",
    "    # Save checkpoint for notebook\n",
    "    avdl = sum(id_to_doclen.values()) / len(id_to_doclen)\n",
    "    corpus = {\n",
    "        \"fname_to_id\": fname_to_id,\n",
    "        \"id_to_doclen\": id_to_doclen,\n",
    "        \"id_to_fname\": id_to_fname,\n",
    "        \"vocab_to_id\": vocab_to_id,\n",
    "        \"id_to_vocab\": id_to_vocab,\n",
    "        \"inverted_files\": inverted_files,\n",
    "        \"gram_to_id\": gram_to_id,\n",
    "        \"avdl\": avdl,\n",
    "    }\n",
    "    corpus[\"sparse\"] = sparse_matrix.gen_matrix(corpus, configs)\n"
   ]
  },
  {
   "cell_type": "code",
   "execution_count": null,
   "metadata": {},
   "outputs": [],
   "source": [
    "\n",
    "    print(\"Processing Query\")\n",
    "    queries = parser.parse_queries(corpus, configs, configs[\"query_path\"])\n",
    "    sparse_queries = []\n",
    "    for query in queries:\n",
    "        sparse_queries.append( sparse_matrix.gen_query_vector(query, corpus, configs) )\n",
    "    query_responses = []\n",
    "    for sparse_query in tqdm(sparse_queries):\n",
    "        query_responses.append( predict.predict_query(sparse_query, corpus, configs) )\n",
    "    print(\"Rocchio Feedback\")\n",
    "    for _ in tqdm(range(configs[\"rocchio_iters\"])):\n",
    "        for i in tqdm(range(len(query_responses))):\n",
    "            sparse_queries[i] = rocchio.rocchio_feedback(query_responses[i], sparse_queries[i],  corpus, configs)\n",
    "            response = predict.predict_query(sparse_queries[i], corpus, configs)\n",
    "            query_responses[i] = response\n",
    "    predict.process_predictions(query_responses, configs, corpus)\n",
    "    predict.write_predictions(query_responses, queries)\n",
    "    predict.calc_MAP(query_responses, configs)"
   ]
  }
 ],
 "metadata": {
  "kernelspec": {
   "display_name": "Python 3",
   "language": "python",
   "name": "python3"
  },
  "language_info": {
   "codemirror_mode": {
    "name": "ipython",
    "version": 3
   },
   "file_extension": ".py",
   "mimetype": "text/x-python",
   "name": "python",
   "nbconvert_exporter": "python",
   "pygments_lexer": "ipython3",
   "version": "3.7.6"
  }
 },
 "nbformat": 4,
 "nbformat_minor": 4
}
